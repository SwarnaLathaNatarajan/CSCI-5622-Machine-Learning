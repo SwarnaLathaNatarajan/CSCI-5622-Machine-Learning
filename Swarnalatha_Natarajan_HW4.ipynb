{
 "cells": [
  {
   "cell_type": "markdown",
   "metadata": {},
   "source": [
    "# Homework 4: SVM\n",
    "\n",
    "\n",
    "This assignment is due on Moodle by **11:59pm on Friday November 8**. \n",
    "Your solutions to theoretical questions should be done in Markdown/MathJax directly below the associated question.\n",
    "Your solutions to computational questions should include any specified Python code and results \n",
    "as well as written commentary on your conclusions.\n",
    "Remember that you are encouraged to discuss the problems with your instructors and classmates, \n",
    "but **you must write all code and solutions on your own**. For a refresher on the course **Collaboration Policy** click [here](https://github.com/BoulderDS/CSCI5622-Machine-Learning/blob/master/info/syllabus.md#collaboration-policy).\n",
    "\n",
    "**NOTES**: \n",
    "\n",
    "- Do **NOT** load or use any Python packages that are not available in Anaconda (Version: 2019.07) with Python 3.7. \n",
    "- Some problems with code may be autograded.  If we provide a function API **do not** change it.  If we do not provide a function API then you're free to structure your code however you like. \n",
    "- Submit only this Jupyter notebook to Moodle.  Do not compress it using tar, rar, zip, etc. \n",
    "- In this homework you will explore the primal and dual representations of support vector machines, as well as the performance of various kernels while classifying sentiments. Install the following packages: `nltk` (Version: 3.4.5), `scikit-learn` (Version: 0.21.3)\n"
   ]
  },
  {
   "cell_type": "markdown",
   "metadata": {},
   "source": [
    "Name: "
   ]
  },
  {
   "cell_type": "code",
   "execution_count": 2,
   "metadata": {},
   "outputs": [],
   "source": [
    "import math\n",
    "import pickle\n",
    "import gzip\n",
    "import numpy as np\n",
    "import pandas\n",
    "import matplotlib.pylab as plt\n",
    "%matplotlib inline"
   ]
  },
  {
   "cell_type": "markdown",
   "metadata": {},
   "source": [
    "[40 Points] Problem 1 - Basic concepts of SVM\n",
    "---\n",
    "\n",
    "**Part 1 [10 points]:** \n",
    "* What are the main differences between the primal and the dual representations?\n",
    "* For the variables $\\xi_i$, $C$ in the primal formation, what are their roles? Write out the upper/lower bounds (constraints) of these variables. What are the interpretation for these maximum/minimum values?\n",
    "* For the variable $\\alpha_i$, $\\beta_i$ in the dual formation, what are the upper/lower bound (constraints) of them?"
   ]
  },
  {
   "cell_type": "markdown",
   "metadata": {
    "collapsed": true,
    "deletable": false,
    "nbgrader": {
     "cell_type": "markdown",
     "checksum": "f616bf5ea6cd25ba5b9bbbf94bb465f5",
     "grade": true,
     "grade_id": "cell-f177349aed9aabcf",
     "locked": false,
     "points": 10,
     "schema_version": 3,
     "solution": true
    }
   },
   "source": [
    "YOUR ANSWER HERE\n",
    "\n",
    "***1.Main differences between the primal and dual representations***\n",
    "\n",
    "(a) Solving the primal problem, we obtain the optimal 𝑤, but know nothing about the $\\alpha_i$. In order to classify a query point 𝑥 we need to explicitly compute the scalar product $𝑤^𝑇𝑥$, which may be expensive if 𝑑 is large. Solving the dual problem, we obtain the $\\alpha_i$ (where $\\alpha_i$=0 for all but a few points - the support vectors).\n",
    "\n",
    "(b) By examining the dual form of the optimization problem, we gained significant insight into the structure of the problem, and were also able to write the entire algorithm in terms of only inner products between input feature vectors.\n",
    "\n",
    "(c) In primal representation, we optimize\n",
    "\n",
    "$\\min_{w,b}=\\frac{1}{2} \\Vert{w}\\Vert^2$ \n",
    "\n",
    "subject to $y_i(w.x_i+b)\\ge1 , i\\in[1,m]$. \n",
    "\n",
    "In dual representation, we optimize\n",
    "\n",
    "$ \\max_\\alpha \\sum_{i=1}^m \\alpha_i -\\frac{1}{2} \\sum_{i=1}^m\\sum_{j=1}^m\\alpha_i \\alpha_j y_i y_j(x_j . x_i)$\n",
    "\n",
    "subject to $\\alpha_i \\ge 0, i\\in[1,m], \\sum_{i} \\alpha_i y_i =0$\n",
    "\n",
    "(d) In dual representation, the constraints become simplified and the main objective is to find the $\\alpha$ values.\n",
    "\n",
    "***2. About*** $\\xi_i, C$ ***values in primal formation***\n",
    "\n",
    "(a) $\\xi_i$ defines slack variables i.e. how wrong a point is. $\\xi_i$ is always $\\ge 0$. The values of $\\xi_i$ are as follows.\n",
    "\n",
    "$\\xi_i$ = 0, if $y_i(w.x_i+b)\\ge 1$ i.e. satisfies the margin.\n",
    "\n",
    "$\\xi_i$ = $1-y_i(w.x_i+b)$, Otherwise i.e. does not satisfy the margin.\n",
    "\n",
    "These bounds could be interpreted as when a point $x_i$ lies within or on the margin, there is no need of a slack variable. Hence, $\\xi_i$ becomes 0. On the other hand, $\\xi_i$ becomes $1-y_i(w.x_i+b)$ when the point $x_i$ does not satisfy the margin and lies in the opposite side.\n",
    "\n",
    "(b) $C$ defines the trade-off between margin and slack variables. $C$ is always $\\ge 0$. As $C$ increases, the margin increases. This in turn decreases overfitting, decreases the bias and increases the variance.\n",
    "\n",
    "***3. About*** $\\alpha_i, \\beta_i$ ***values in dual formation***\n",
    "\n",
    "(a) $\\alpha_i$ is always $\\ge 0$. It is non-zero for the support vectors and zero for the remaining vectors that do not contribute to the weight w. In soft-margin SVM, the bounds of $\\alpha_i$ are $C\\ge\\alpha_i\\ge0$.\n",
    "\n",
    "(b) $\\beta_i$ is always $\\ge 0$. In soft-margin SVM, the bounds of $\\beta_i$ are $C\\ge\\beta_i\\ge0$. $\\alpha_i$ and $\\beta_i$ are related such that $\\alpha_i+\\beta_i=C$. Therefore, when $\\alpha_i=0$, $\\beta_i=C$ and when $\\alpha_i=C$, $\\beta_i=0$. Also, $\\alpha_i$ and $\\xi_i$ are related such that $\\beta_i \\xi_i=0$. Therefore, either $\\xi_i=0$ or $\\beta_i=0$."
   ]
  },
  {
   "cell_type": "markdown",
   "metadata": {},
   "source": [
    "**Part 2 [20 points]:** \n",
    "\n",
    " * Given a weight vector, implement the `find_support` function that returns the indices of the support vectors.\n",
    " * Given a weight vector, implement the `find_slack` function that returns the indices of the vectors with nonzero slack.\n",
    " * Given the alpha dual vector, implement the `weight_vector` function that returns the corresponding weight vector."
   ]
  },
  {
   "cell_type": "code",
   "execution_count": 4,
   "metadata": {
    "deletable": false,
    "nbgrader": {
     "cell_type": "code",
     "checksum": "95c07ce92336485501945c905ee57cdd",
     "grade": false,
     "grade_id": "cell-14c104d96c00c2eb",
     "locked": false,
     "schema_version": 3,
     "solution": true
    }
   },
   "outputs": [],
   "source": [
    "class SVM:\n",
    "    \n",
    "    def __init__(self):\n",
    "        self.kINSP = np.array([(1, 8, +1),\n",
    "                       (7, 2, -1), \n",
    "                       (6, -1, -1),\n",
    "                       (-5, 0, +1),\n",
    "                       (-5, 1, -1),\n",
    "                       (-5, 2, +1),\n",
    "                       (6, 3, +1),\n",
    "                       (6, 1, -1),\n",
    "                       (5, 2, -1)])\n",
    "        self.kSEP = np.array([(-2, 2, +1),    # 0 - A\n",
    "                      (0, 4, +1),             # 1 - B\n",
    "                      (2, 1, +1),             # 2 - C\n",
    "                      (-2, -3, -1),           # 3 - D\n",
    "                      (0, -1, -1),            # 4 - E\n",
    "                      (2, -3, -1),            # 5 - F\n",
    "                      ])\n",
    "\n",
    "\n",
    "    def weight_vector(self, x, y, alpha):\n",
    "        \"\"\"\n",
    "        Given a vector of alphas, compute the primal weight vector w.\n",
    "        The vector w should be returned as an Numpy array.\n",
    "        \"\"\"\n",
    "        w = np.zeros(len(x[0]))\n",
    "        # YOUR CODE HERE\n",
    "        i=0\n",
    "        while(i<len(x[0])):\n",
    "            for j in range(len(x)):\n",
    "                w[i]+=x[j][i]*y[j]*alpha[j]\n",
    "            i+=1\n",
    "        #raise NotImplementedError()\n",
    "        return w\n",
    "\n",
    "\n",
    "\n",
    "    def find_support(self, x, y, w, b, tolerance=0.001):\n",
    "        \"\"\"\n",
    "        Given a set of training examples and primal weights, return the indices\n",
    "        of all of the support vectors as a set.\n",
    "        \"\"\"\n",
    "        support = set()\n",
    "        # YOUR CODE HERE\n",
    "        #support vectors lie on the margin y(wx+b)=1\n",
    "        for i in range(len(x)):\n",
    "            if y[i]*(x[i].dot(w)+b)<=1+tolerance and y[i]*(x[i].dot(w)+b)>=1-tolerance:\n",
    "                support.add(i)\n",
    "        #raise NotImplementedError()\n",
    "        return support\n",
    "\n",
    "\n",
    "\n",
    "    def find_slack(self, x, y, w, b):\n",
    "        \"\"\"\n",
    "        Given a set of training examples and primal weights, return the indices\n",
    "        of all examples with nonzero slack as a set.\n",
    "        \"\"\"\n",
    "        slack = set()\n",
    "        # YOUR CODE HERE\n",
    "        #nonzero slack only when x does not satisfy the margin\n",
    "        for i in range(len(x)):\n",
    "            if y[i]*(x[i].dot(w)+b)<1:\n",
    "                slack.add(i)\n",
    "        #raise NotImplementedError()\n",
    "        return slack"
   ]
  },
  {
   "cell_type": "code",
   "execution_count": 5,
   "metadata": {
    "deletable": false,
    "editable": false,
    "nbgrader": {
     "cell_type": "code",
     "checksum": "3aa73cc220bc2b16c09b0e72ebd10dfa",
     "grade": true,
     "grade_id": "cell-3c7d7f432578009e",
     "locked": true,
     "points": 20,
     "schema_version": 3,
     "solution": false
    },
    "scrolled": true
   },
   "outputs": [
    {
     "name": "stderr",
     "output_type": "stream",
     "text": [
      "TestWideSlack (tests.tests.TestSVM) ... ok\n",
      "TestNarrowSlack (tests.tests.TestSVM) ... ok\n",
      "TestSupport (tests.tests.TestSVM) ... ok\n",
      "TestWeight (tests.tests.TestSVM) ... ok\n",
      "\n",
      "----------------------------------------------------------------------\n",
      "Ran 4 tests in 0.004s\n",
      "\n",
      "OK\n"
     ]
    }
   ],
   "source": [
    "from tests import tests\n",
    "tests.run_test_suite(\"prob 1\", SVM)"
   ]
  },
  {
   "cell_type": "markdown",
   "metadata": {},
   "source": [
    "**Part 3 [10 points]:** \n",
    "\n",
    "The goal of this problem is to correctly classify test data points, given a training data set.\n",
    "For this problem, assume that we are training an SVM with a quadratic kernel, which means our kernel function is a polynomial kernel of degree 2. You are given the data set presented in the figure below. The slack penalty $C$ will determine the location of the decision boundary.\n",
    "\n",
    "Justify the following questions in a sentence or via drawing decision boundary.\n",
    "![training_data](./data/data.png)\n",
    "\n",
    "* Where would the decision boundary be for very large values of $C$ ?\n",
    "* Where you would expect the decision boundary to be if  $C = 0$ ?\n",
    "* Which of the two cases above would you expect to generalize better on test data? Why?"
   ]
  },
  {
   "cell_type": "markdown",
   "metadata": {
    "deletable": false,
    "nbgrader": {
     "cell_type": "markdown",
     "checksum": "985db05b9496fb3714ee2096479f6f7d",
     "grade": true,
     "grade_id": "cell-02406ba497be1623",
     "locked": false,
     "points": 10,
     "schema_version": 3,
     "solution": true
    }
   },
   "source": [
    "YOUR ANSWER HERE\n",
    "\n",
    "***1.Decision boundary for very large values of C***\n",
    "\n",
    "This decision boundary lies very close to one of the classes and aims at exactly dividing the positive and negative class points with no misclassification. Also, The margin is no longer maximized.\n",
    "\n",
    "***2.Decision boundary for C=0***\n",
    "\n",
    "This decision boundary would be in the middle, with 2 misclassification of the red points. When C=0, $\\xi_i$ can take large values and Hence, the margin is maximized.\n",
    "\n",
    "***3.Case 2 generalizes better on test data***\n",
    "\n",
    "This is because case 1 results in overfitting on the train data and the margin is not maximized. That is, it gives high training accuracy, but low testing accuracy. On the other hand, case 2 allows certain misclassifications and maximizes the margin which is the ultimate goal of a support vector machine."
   ]
  },
  {
   "cell_type": "markdown",
   "metadata": {},
   "source": [
    "[30 points] Problem 2 - The Kernel Trick\n",
    "---\n",
    "The kernel trick can make SVM powerful and become non-linear. In this problem we will get familiar with the kernel trick.\n",
    "\n",
    "**Part 1 [10 points]:**\n",
    "\n",
    "We will construct a support vector machine that computes the XOR function, using values of +1 and −1 (instead of 1 and 0) for both inputs and outputs, so that an example looks like ($[−1, 1], 1$) or ($[−1, −1], −1$). Map the input $[x_1, x_2]$ into a space consisting of $x_1$ and $x_1x_2$. Plot the four input points in this space, and the maximal margin separator. Give the margin value in the markdown cell. Remeber to indicate which points have output +1 and which -1."
   ]
  },
  {
   "cell_type": "code",
   "execution_count": 5,
   "metadata": {
    "deletable": false,
    "nbgrader": {
     "cell_type": "code",
     "checksum": "e495557a163be3eb33fccc9d445e8de3",
     "grade": false,
     "grade_id": "cell-20ea52b04bb94dee",
     "locked": false,
     "schema_version": 3,
     "solution": true,
     "task": false
    }
   },
   "outputs": [
    {
     "data": {
      "text/plain": [
       "<matplotlib.legend.Legend at 0x11ff03d90>"
      ]
     },
     "execution_count": 5,
     "metadata": {},
     "output_type": "execute_result"
    },
    {
     "data": {
      "image/png": "[encoded data removed]",
      "text/plain": [
       "<Figure size 864x432 with 1 Axes>"
      ]
     },
     "metadata": {
      "needs_background": "light"
     },
     "output_type": "display_data"
    },
    {
     "data": {
      "image/png": "[encoded data removed]",
      "text/plain": [
       "<Figure size 864x432 with 1 Axes>"
      ]
     },
     "metadata": {
      "needs_background": "light"
     },
     "output_type": "display_data"
    }
   ],
   "source": [
    "# YOUR CODE HERE\n",
    "fig1, ax1 = plt.subplots(nrows=1, ncols=1, figsize=(12,6))\n",
    "fig1, ax2 = plt.subplots(nrows=1, ncols=1, figsize=(12,6))\n",
    "ax1.title.set_text(\"XOR Function\")\n",
    "ax1.set_xlabel(\"x1\", fontsize=16)\n",
    "ax1.set_ylabel(\"x2\", fontsize=16)\n",
    "ax2.title.set_text(\"XOR Function after the Kernel Trick\")\n",
    "ax2.set_xlabel(\"x1\", fontsize=16)\n",
    "ax2.set_ylabel(\"x1.x2\", fontsize=16)\n",
    "color={1:'blue',-1:'red'}\n",
    "x1=[-1,-1,1,1]\n",
    "x2=[-1,1,-1,1]\n",
    "y=[-1,1,1,-1]\n",
    "for i in range(len(y)):\n",
    "    ax1.scatter(x1[i],x2[i],color=color[y[i]],label=str(x1[i])+\",\"+str(x2[i])+\"=\"+str(y[i]))\n",
    "    ax1.text(x1[i],x2[i],str(x1[i])+\",\"+str(x2[i]), fontsize=16)\n",
    "    ax2.scatter(x1[i],x1[i]*x2[i],color=color[y[i]],label=str(x1[i])+\",\"+str(x1[i]*x2[i])+\"=\"+str(y[i]))\n",
    "    ax2.text(x1[i],x2[i],str(x1[i])+\",\"+str(x1[i]*x2[i]), fontsize=16)\n",
    "ax2.plot(x1,np.linspace(0,0,4),color='black',label=\"Maximal margin separator\")\n",
    "ax1.legend()\n",
    "ax2.legend()\n",
    "#raise NotImplementedError()"
   ]
  },
  {
   "cell_type": "markdown",
   "metadata": {
    "deletable": false,
    "nbgrader": {
     "cell_type": "markdown",
     "checksum": "21d15db327a141bbe8d5bf2323358407",
     "grade": true,
     "grade_id": "cell-64bbc4980b5c4edd",
     "locked": false,
     "points": 10,
     "schema_version": 3,
     "solution": true,
     "task": false
    }
   },
   "source": [
    "YOUR ANSWER HERE\n",
    "\n",
    "The Margins exist at $x_1x_2=1$ and  $x_1x_2=-1$. The Maximal margin separator is at $x_1x_2=0$."
   ]
  },
  {
   "cell_type": "markdown",
   "metadata": {},
   "source": [
    "**Part 2 [5 points]:** Plot the separating line of **Part 1** back in the original Euclidean input space."
   ]
  },
  {
   "cell_type": "code",
   "execution_count": 6,
   "metadata": {
    "deletable": false,
    "nbgrader": {
     "cell_type": "code",
     "checksum": "e6e323e18881c3d6be9b1ff2abd3d8ac",
     "grade": true,
     "grade_id": "cell-9020bbe03ed87cfc",
     "locked": false,
     "points": 5,
     "schema_version": 3,
     "solution": true,
     "task": false
    }
   },
   "outputs": [
    {
     "data": {
      "text/plain": [
       "<matplotlib.legend.Legend at 0x11ffb3890>"
      ]
     },
     "execution_count": 6,
     "metadata": {},
     "output_type": "execute_result"
    },
    {
     "data": {
      "image/png": "[encoded data removed]",
      "text/plain": [
       "<Figure size 864x432 with 1 Axes>"
      ]
     },
     "metadata": {
      "needs_background": "light"
     },
     "output_type": "display_data"
    }
   ],
   "source": [
    "# YOUR CODE HERE\n",
    "fig, ax = plt.subplots(nrows=1, ncols=1, figsize=(12,6))\n",
    "ax.set_xlabel(\"x1\", fontsize=16)\n",
    "ax.set_ylabel(\"x2\", fontsize=16)\n",
    "ax.title.set_text(\"The separating line of Part 1 back in the original Euclidean input space\")\n",
    "for i in range(len(y)):\n",
    "    ax.scatter(x1[i],x2[i],color=color[y[i]],label=str(x1[i])+\",\"+str(x2[i])+\"=\"+str(y[i]))\n",
    "    ax.text(x1[i],x2[i],str(x1[i])+\",\"+str(x2[i]), fontsize=16)\n",
    "ax.plot(np.linspace(-1,1,100),[0]*100,color=\"black\",label=\"Maximal margin separator\")\n",
    "ax.plot([0]*100,np.linspace(-1,1,100),color=\"black\")\n",
    "ax.legend(loc='center right')\n",
    "#raise NotImplementedError()"
   ]
  },
  {
   "cell_type": "markdown",
   "metadata": {},
   "source": [
    "**Part 3 [5 points]:** Is the seporater in **Part 1** linear? Is the one in **Part 2** linear? Explain your answer."
   ]
  },
  {
   "cell_type": "markdown",
   "metadata": {
    "deletable": false,
    "nbgrader": {
     "cell_type": "markdown",
     "checksum": "8821f5382c580de24c483bd1a0cd4b31",
     "grade": true,
     "grade_id": "cell-119e16472d287f4e",
     "locked": false,
     "points": 5,
     "schema_version": 3,
     "solution": true,
     "task": false
    }
   },
   "source": [
    "YOUR ANSWER HERE\n",
    "\n",
    "The separator in Part 1 is linear while the one in Part 2 is non-linear. This is because the line $x_1x_2=0$ is linear in Part 2 where the y-axis denotes $x_1x_2$. When this separator is plotted back in the original Euclidean input space, $x_1x_2=0$ when either $x_1=0$ or $x_2=0$ or both $x_1$ and $x_2$ are equal to zero. This forms a non-linear hyperplane separating the y=-1 points from the y=+1 points. This shows that the Kernel trick can be used to classify data that are not linearly separable."
   ]
  },
  {
   "cell_type": "markdown",
   "metadata": {},
   "source": [
    "**Part 4 [10 points]:**\n",
    "The key point of the so-called “kernel trick” in SVMs is to learn a classifier that effectively separates the training data in a higher dimensional space without having to explicitly compute the representation $\\phi(\\mathbf{x})$ of every point $\\mathbf{x}$ in the original input space. Instead, all the work is done through the kernel function $K(\\mathbf{x}_i, \\mathbf{x}_i)$, for example, we can use $K(\\mathbf{x}_i, \\mathbf{x}_i) = \\phi(\\mathbf{x}_i)\\phi(\\mathbf{x}_j)$.\n",
    "\n",
    "Show how to compute the squared Euclidean distance in the projected space between any two points $\\mathbf{x}_i$, $\\mathbf{x}_j$ in the original space without explicitly computing the $\\phi$ mapping, instead using the kernel function $K$. In other words, derive $d(\\phi(\\mathbf{x}_i), \\phi(\\mathbf{x}_j))$ into a form using only the kernel function."
   ]
  },
  {
   "cell_type": "markdown",
   "metadata": {
    "deletable": false,
    "nbgrader": {
     "cell_type": "markdown",
     "checksum": "3beedd96d39e9c464377ae2885f78ba0",
     "grade": true,
     "grade_id": "cell-c6b6512e7d992202",
     "locked": false,
     "points": 10,
     "schema_version": 3,
     "solution": true,
     "task": false
    }
   },
   "source": [
    "YOUR ANSWER HERE\n",
    "\n",
    "$d(\\phi(\\mathbf{x}_i), \\phi(\\mathbf{x}_j)) = (\\phi(\\mathbf{x}_i) - \\phi(\\mathbf{x}_j))^2$\n",
    "\n",
    "$= (\\phi(\\mathbf{x}_i))^2 + (\\phi(\\mathbf{x}_j)^2 - 2 (\\phi(\\mathbf{x}_i) (\\phi(\\mathbf{x}_j))$\n",
    "\n",
    "$=((\\phi(\\mathbf{x}_i)(\\phi(\\mathbf{x}_i)) + ((\\phi(\\mathbf{x}_j)(\\phi(\\mathbf{x}_j)) -2 K(\\mathbf{x}_i, \\mathbf{x}_j)$\n",
    "\n",
    "$=K(\\mathbf{x}_i, \\mathbf{x}_i) + K(\\mathbf{x}_j, \\mathbf{x}_j) -2 K(\\mathbf{x}_i, \\mathbf{x}_j)$\n",
    "\n",
    "Therefore, $d(\\phi(\\mathbf{x}_i), \\phi(\\mathbf{x}_j))$ can be derived only in terms of the kernel function without explicitly computing the $\\phi$ mapping for every point x."
   ]
  },
  {
   "cell_type": "markdown",
   "metadata": {},
   "source": [
    "[30 points] Problem 3 - SVM with `sklearn`\n",
    "---\n",
    "\n",
    "In this problem, you will get familiar with important practical functions in scikit-learn such as pipeline, grid search, and cross validation. You will experiment with these using support vector machines.\n",
    "\n",
    "Note that grid search can take some time on your laptop, so make sure that your code is correct with a small subset of the training data and search a reasonable number of options.\n",
    "\n",
    "* Use the Sklearn implementation of support vector machines to train a classifier to distinguish Positive and negative sentiments\n",
    "* Experiment with linear, polynomial, and RBF kernels. First, perform a GridSearch over each kernel function and a small set of parameters defined over a wide range to help narrow down the search space.\n",
    "* Then choose the best performing kernel from your coarse scale search and define a narrower set of parameters for random search to further optimize the hyperparameters. Comment on the experiments you ran and optimal hyperparameters you found.\n",
    "Hint: http://scikit-learn.org/stable/modules/grid_search.html\n",
    "* Evaluate classification performance for each model for optimal parameters by testing on a hold-out set.\n",
    "\n",
    "Following is a dataset containing reviews and sentiments associated with it.\n",
    "\n",
    "We will create a SVM Classifier to predict positive or negative sentiments."
   ]
  },
  {
   "cell_type": "code",
   "execution_count": 8,
   "metadata": {},
   "outputs": [],
   "source": [
    "import pandas as pd\n",
    "from sklearn.model_selection import train_test_split, StratifiedKFold\n",
    "reviews  = pd.read_csv('./data/reviews.csv')\n",
    "train, test = train_test_split(reviews, test_size=0.2, random_state=5622)\n",
    "X_train = train['reviews']\n",
    "X_test = test['reviews']\n",
    "y_train = train['sentiment']\n",
    "y_test = test['sentiment']"
   ]
  },
  {
   "cell_type": "code",
   "execution_count": 9,
   "metadata": {},
   "outputs": [
    {
     "data": {
      "text/plain": [
       "(4000, 1995, 1000, 505)"
      ]
     },
     "execution_count": 9,
     "metadata": {},
     "output_type": "execute_result"
    }
   ],
   "source": [
    "len(X_train),sum(y_train),len(X_test),sum(y_test)"
   ]
  },
  {
   "cell_type": "code",
   "execution_count": 10,
   "metadata": {},
   "outputs": [],
   "source": [
    "import nltk\n",
    "from nltk.corpus import stopwords\n",
    "from nltk.tokenize import TweetTokenizer\n",
    "from sklearn.feature_extraction.text import CountVectorizer\n",
    "from sklearn.svm import SVC\n",
    "from sklearn.pipeline import make_pipeline, Pipeline\n",
    "from sklearn.model_selection import GridSearchCV, RandomizedSearchCV\n",
    "from sklearn.metrics import accuracy_score, f1_score\n",
    "from sklearn.metrics import confusion_matrix, roc_auc_score, recall_score, precision_score"
   ]
  },
  {
   "cell_type": "markdown",
   "metadata": {},
   "source": [
    "**Part 1 [5 points]:**\n",
    "\n",
    "Use `CountVectorizer` to vectorize reviews as dictionary of term frequencies.\n",
    "Define the crossvalidation split using `StratifiedKFold`."
   ]
  },
  {
   "cell_type": "code",
   "execution_count": 11,
   "metadata": {
    "deletable": false,
    "nbgrader": {
     "cell_type": "code",
     "checksum": "ff5c05e229aacfb20ead9cab47a30752",
     "grade": true,
     "grade_id": "cell-ab58d371c35713b4",
     "locked": false,
     "points": 5,
     "schema_version": 3,
     "solution": true
    }
   },
   "outputs": [
    {
     "name": "stderr",
     "output_type": "stream",
     "text": [
      "[nltk_data] Downloading package stopwords to\n",
      "[nltk_data]     /Users/swarnalathanatarajan/nltk_data...\n",
      "[nltk_data]   Package stopwords is already up-to-date!\n"
     ]
    },
    {
     "data": {
      "text/plain": [
       "5"
      ]
     },
     "execution_count": 11,
     "metadata": {},
     "output_type": "execute_result"
    }
   ],
   "source": [
    "def tokenize(text): \n",
    "    tknzr = TweetTokenizer()\n",
    "    return tknzr.tokenize(text)\n",
    "\n",
    "nltk.download('stopwords')\n",
    "en_stopwords = set(stopwords.words(\"english\")) \n",
    "\n",
    "# CREATE CountVectorizer using sklearn.feature_extraction.text.CountVectorizer\n",
    "# Hint: use the above tokenize function\n",
    "# Hint: play with different parameters, in particular, min_df can help with generalizability\n",
    "# YOUR CODE HERE\n",
    "cv=CountVectorizer(tokenizer=tokenize,stop_words=en_stopwords,min_df=1)\n",
    "cv.fit(X_train)\n",
    "#raise NotImplementedError()\n",
    "\n",
    "# split dataset using StratifiedKFold into 5 splits using sklearn.model_selection.StratifiedKFold.\n",
    "# YOUR CODE HERE\n",
    "kfolds = StratifiedKFold(n_splits=5)\n",
    "kfolds.get_n_splits(X_train,y_train)\n",
    "#raise NotImplementedError()"
   ]
  },
  {
   "cell_type": "markdown",
   "metadata": {},
   "source": [
    "**Part 2 [10 points]:**\n",
    "* Create a pipeline with our `CountVectorizer` object in **Part 1** and an SVM Classifier.\n",
    "* Create and fit a `GridSearchCV` object with the following parameter values:\n",
    "  * Linear kernel, $C = 0.01, 1.0, 10.0$\n",
    "  * Polynomial kernel, $\\text{degree} = 2, 3$, $\\gamma = 0.1, 0.5, 1$\n",
    "  * RBF kernel, $\\gamma = 0.1, 0.5, 1$\n",
    "* Report accuracy on the best estimator from our `GridSearchCV` object."
   ]
  },
  {
   "cell_type": "code",
   "execution_count": 12,
   "metadata": {
    "deletable": false,
    "nbgrader": {
     "cell_type": "code",
     "checksum": "88d870b8bb537716016ae1577d22d90b",
     "grade": true,
     "grade_id": "cell-a3dd5b25a9ce8feb",
     "locked": false,
     "points": 5,
     "schema_version": 3,
     "solution": true
    }
   },
   "outputs": [],
   "source": [
    "np.random.seed(5622)\n",
    "# Define pipeline using make_pipeline with vectorizer and SVM Classifier\n",
    "# YOUR CODE HERE\n",
    "pipeline_svm = make_pipeline(cv,SVC())\n",
    "#raise NotImplementedError()\n",
    "\n",
    "# Create GridSearchCV with pipeline and the grid search parameters given above,\n",
    "# using \"accuracy\" for scoring.\n",
    "\n",
    "# YOUR CODE HERE\n",
    "tuned_parameters = [{'svc__kernel': ['linear'], 'svc__C': [0.01,1, 10]},\n",
    "                    {'svc__kernel': ['poly'],'svc__degree':[2,3],'svc__gamma': [0.1,0.5, 1]},\n",
    "                    {'svc__kernel': ['rbf'], 'svc__gamma': [0.1,0.5, 1]}]\n",
    "grid_svm = GridSearchCV(pipeline_svm,tuned_parameters, cv=kfolds,scoring='accuracy',iid=True)\n",
    "#raise NotImplementedError()\n",
    "\n",
    "# For debugging purposes, it makes sense to use a smaller set of training set to speed up the grid search progress\n",
    "_ = grid_svm.fit(X_train, y_train)"
   ]
  },
  {
   "cell_type": "code",
   "execution_count": 13,
   "metadata": {
    "deletable": false,
    "nbgrader": {
     "cell_type": "code",
     "checksum": "089068689cee53bba013581b01e8c6cc",
     "grade": true,
     "grade_id": "cell-47833f7ec14a9d22",
     "locked": false,
     "points": 5,
     "schema_version": 3,
     "solution": true,
     "task": false
    }
   },
   "outputs": [
    {
     "name": "stdout",
     "output_type": "stream",
     "text": [
      "{'svc__C': 0.01, 'svc__kernel': 'linear'} 0.87425\n"
     ]
    }
   ],
   "source": [
    "# Report best parameters and CV score from grid search\n",
    "# YOUR CODE HERE\n",
    "print(grid_svm.best_params_,grid_svm.best_score_)\n",
    "#raise NotImplementedError()"
   ]
  },
  {
   "cell_type": "markdown",
   "metadata": {},
   "source": [
    "**Part 3 [10 points]:**\n",
    "\n",
    "Choose the best performing kernel and parameter values from your coarse scale grid search and use them to set up a narrower range of parameter values. We will use randomized grid search to sample a fixed number of these candidate parameter sets for cross validation. The number of sampled parameter sets `n_iter` provides a trade-off between computational cost and quality of the \"optimal\" parameters. Feel free to experiment with different values of this parameter, but please change it back to `n_iter = 5` before submitting your assignment."
   ]
  },
  {
   "cell_type": "code",
   "execution_count": 14,
   "metadata": {
    "deletable": false,
    "nbgrader": {
     "cell_type": "code",
     "checksum": "59e134fffac3e070713e01dd8de977f6",
     "grade": true,
     "grade_id": "cell-e1116a343a3e645a",
     "locked": false,
     "points": 5,
     "schema_version": 3,
     "solution": true,
     "task": false
    }
   },
   "outputs": [
    {
     "name": "stdout",
     "output_type": "stream",
     "text": [
      "Fitting 5 folds for each of 5 candidates, totalling 25 fits\n"
     ]
    },
    {
     "name": "stderr",
     "output_type": "stream",
     "text": [
      "[Parallel(n_jobs=-1)]: Using backend LokyBackend with 12 concurrent workers.\n",
      "[Parallel(n_jobs=-1)]: Done  25 out of  25 | elapsed:   33.8s finished\n"
     ]
    }
   ],
   "source": [
    "# Set random seed for deterministic output\n",
    "np.random.seed(5622)\n",
    "\n",
    "# Set param_grid to a dictionary containing parameter values for fine scale search.\n",
    "# YOUR CODE HERE\n",
    "kernel=grid_svm.best_params_['svc__kernel']\n",
    "if kernel=='linear':\n",
    "    C=grid_svm.best_params_['svc__C']\n",
    "    param_grid={'svc__kernel':[kernel],'svc__C': np.arange(0,C,C/1000).tolist()}\n",
    "elif kernel=='poly':\n",
    "    gamma=grid_svm.best_params_['svc__gamma']\n",
    "    param_grid={'svc__kernel':[kernel],'svc__gamma':[gamma/4,gamma/2,gamma],'svc__degree':[grid_svm.best_params_['svc__degree']]}\n",
    "else:\n",
    "    gamma=grid_svm.best_params_['svc__gamma']\n",
    "    param_grid={'svc__kernel':[kernel],'svc__gamma':[gamma/4,gamma/2,gamma]}                \n",
    "#raise NotImplementedError()\n",
    "\n",
    "# Create randomized parameter search over fine scale grid;\n",
    "# Do NOT change the value of n_iter in the submitted version of your notebook.\n",
    "n_iter = 5\n",
    "random_svm = RandomizedSearchCV(pipeline_svm,\n",
    "                                param_grid,\n",
    "                                n_iter=n_iter,\n",
    "                                cv = kfolds,\n",
    "                                scoring=\"accuracy\",\n",
    "                                verbose=1,   \n",
    "                                n_jobs=-1)\n",
    "\n",
    "_ = random_svm.fit(X_train, y_train)"
   ]
  },
  {
   "cell_type": "code",
   "execution_count": 15,
   "metadata": {
    "deletable": false,
    "nbgrader": {
     "cell_type": "code",
     "checksum": "4b5d5fa7e1321d87c5eef4b928afaf25",
     "grade": true,
     "grade_id": "cell-39b5a8b9e508cf0e",
     "locked": false,
     "points": 5,
     "schema_version": 3,
     "solution": true,
     "task": false
    }
   },
   "outputs": [
    {
     "name": "stdout",
     "output_type": "stream",
     "text": [
      "{'svc__kernel': 'linear', 'svc__C': 0.006180000000000001} 0.87475\n"
     ]
    }
   ],
   "source": [
    "# Report best parameters and CV score from grid search\n",
    "# YOUR CODE HERE\n",
    "print(random_svm.best_params_,random_svm.best_score_)\n",
    "#raise NotImplementedError()"
   ]
  },
  {
   "cell_type": "code",
   "execution_count": 16,
   "metadata": {},
   "outputs": [],
   "source": [
    "def report_results(model, X, y):\n",
    "    pred = model.predict(X)        \n",
    "    acc = accuracy_score(y, pred)\n",
    "    f1 = f1_score(y, pred)\n",
    "    prec = precision_score(y, pred)\n",
    "    rec = recall_score(y, pred)\n",
    "    result = {'f1': f1, 'acc': acc, 'precision': prec, 'recall': rec}\n",
    "    return result"
   ]
  },
  {
   "cell_type": "code",
   "execution_count": 17,
   "metadata": {},
   "outputs": [
    {
     "data": {
      "text/plain": [
       "{'f1': 0.8823529411764707,\n",
       " 'acc': 0.88,\n",
       " 'precision': 0.8737864077669902,\n",
       " 'recall': 0.8910891089108911}"
      ]
     },
     "execution_count": 17,
     "metadata": {},
     "output_type": "execute_result"
    }
   ],
   "source": [
    "report_results(random_svm.best_estimator_, X_test, y_test)"
   ]
  },
  {
   "cell_type": "markdown",
   "metadata": {},
   "source": [
    "**Part 4 [5 points]:**\n",
    "\n",
    "Explain the overall procedure, and report the final result including which hyperparameter values were chosen. Make sure to explain your reasoning in choosing a refined parameter search space in **Part 3**."
   ]
  },
  {
   "cell_type": "markdown",
   "metadata": {
    "deletable": false,
    "nbgrader": {
     "cell_type": "markdown",
     "checksum": "651d32596f089e5e6a6cc978c6f79cd6",
     "grade": true,
     "grade_id": "cell-6fecb92ed6ad5abe",
     "locked": false,
     "points": 5,
     "schema_version": 3,
     "solution": true
    }
   },
   "source": [
    "YOUR ANSWER HERE\n",
    "1. The reviews and sentiments are read from the csv file and stored in X_train, X_test, y_train and y_test respectively.\n",
    "\n",
    "2. The CountVectorizer creates a dictionary with words in the X_train as keys and their respective frequency as the value. The custom tokenizer and stop words parameters are also set.\n",
    "\n",
    "3. StratifiedKFold is performed to split the data into 5 splits with equal class samples in each of the splits.\n",
    "\n",
    "4. A pipeline is created which comprises of the count vectorizer object and SVC().\n",
    "\n",
    "5. Grid search is performed for the given kernel types and parameters. The best parameter is determined. ***The best parameters were kernel : linear, C=0.01 with CV score=0.87425***.\n",
    "\n",
    "6. Now, Randomized search was performed for a refined parameter search space of the best parameter kernel='linear' for larger set of possible C values. ***This resulted in an updated best C value = 0.006180000000000001 with increased CV score=0.87475***.\n",
    "\n",
    "7. On testing the model, an accuracy of 88% was achieved."
   ]
  },
  {
   "cell_type": "markdown",
   "metadata": {},
   "source": [
    "### Optional survey.\n",
    "***\n",
    "\n",
    "We are always interested in your feedback. At the end of each homework, there is a simple anonymous feedback [survey](https://forms.gle/bEaNM6G2qFRKhU4Z9) to solicit your feedback for how to improve the course."
   ]
  },
  {
   "cell_type": "code",
   "execution_count": null,
   "metadata": {},
   "outputs": [],
   "source": []
  }
 ],
 "metadata": {
  "kernelspec": {
   "display_name": "Python 3",
   "language": "python",
   "name": "python3"
  },
  "language_info": {
   "codemirror_mode": {
    "name": "ipython",
    "version": 3
   },
   "file_extension": ".py",
   "mimetype": "text/x-python",
   "name": "python",
   "nbconvert_exporter": "python",
   "pygments_lexer": "ipython3",
   "version": "3.7.4"
  }
 },
 "nbformat": 4,
 "nbformat_minor": 2
}
