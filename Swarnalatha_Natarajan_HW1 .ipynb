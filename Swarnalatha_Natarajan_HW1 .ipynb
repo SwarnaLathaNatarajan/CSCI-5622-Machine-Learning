{
 "cells": [
  {
   "cell_type": "markdown",
   "metadata": {
    "collapsed": true,
    "deletable": false,
    "editable": false,
    "nbgrader": {
     "cell_type": "markdown",
     "checksum": "e608dcda6c3a4a6bf07fb19b6808acba",
     "grade": false,
     "grade_id": "intro",
     "locked": true,
     "schema_version": 3,
     "solution": false
    }
   },
   "source": [
    "# Homework 1: Decision tree, K-nearest neighbor, and the Bias-Variance Trade-Off\n",
    "\n",
    "\n",
    "\n",
    "This assignment is due on Moodle by **11:59pm on Friday Sep 13**. \n",
    "Your solutions to theoretical questions should be done in Markdown/MathJax directly below the associated question.\n",
    "Your solutions to computational questions should include any specified Python code and results \n",
    "as well as written commentary on your conclusions.\n",
    "Remember that you are encouraged to discuss the problems with your instructors and classmates, \n",
    "but **you must write all code and solutions on your own**. For a refresher on the course **Collaboration Policy** click [here](https://github.com/BoulderDS/CSCI5622-Machine-Learning/blob/master/info/syllabus.md#collaboration-policy).\n",
    "\n",
    "**NOTES**: \n",
    "\n",
    "- Do **NOT** load or use any Python packages that are not available in Anaconda (Version: 2019.07) with Python 3.7. \n",
    "- Some problems with code may be autograded.  If we provide a function API, **do not** change it.  If we do not provide a function API, then you're free to structure your code however you like. \n",
    "- Submit only this Jupyter notebook to Moodle.  Do not compress it using tar, rar, zip, etc. \n",
    "\n",
    "**Acknowledgment**: Noah Smith, Chris Ketelsen"
   ]
  },
  {
   "cell_type": "markdown",
   "metadata": {},
   "source": [
    "**Please put your name and cuidentity key.**"
   ]
  },
  {
   "cell_type": "markdown",
   "metadata": {},
   "source": [
    "**Name**: Swarnalatha Natarajan \n",
    "**CUIdentity Key**: swna2675"
   ]
  },
  {
   "cell_type": "code",
   "execution_count": 1,
   "metadata": {
    "deletable": false,
    "editable": false,
    "nbgrader": {
     "cell_type": "code",
     "checksum": "ff7d53666cb767a1719373f5927a8ebe",
     "grade": false,
     "grade_id": "load",
     "locked": true,
     "schema_version": 3,
     "solution": false
    }
   },
   "outputs": [],
   "source": [
    "import math\n",
    "import pickle\n",
    "import gzip\n",
    "import numpy as np\n",
    "import matplotlib.pylab as plt\n",
    "%matplotlib inline"
   ]
  },
  {
   "cell_type": "markdown",
   "metadata": {
    "deletable": false,
    "editable": false,
    "nbgrader": {
     "cell_type": "markdown",
     "checksum": "89feaac2890b5d71a6a9ffe67a11c921",
     "grade": false,
     "grade_id": "1intro",
     "locked": true,
     "schema_version": 3,
     "solution": false
    }
   },
   "source": [
    "### [30 points] Problem 1 - Decision tree\n",
    "***\n",
    "\n",
    "Consider the problem of predicting whether a person has a college degree based on age, salary, and Colorado residency. \n",
    "The dataset looks like the following.\n",
    "\n",
    "| Age   | Salary         | Colorado Residency      | College degree| \n",
    "|:------:|:------------:| :-----------:|---:|\n",
    "| 27 | 41,000 | Yes | Yes |\n",
    "| 61 | 52,000 | No | No |\n",
    "| 23 | 24,000 | Yes | No |\n",
    "| 29 | 77,000 | Yes | Yes |\n",
    "| 32 | 48,000 | No | Yes |\n",
    "| 57 | 120,000 | Yes | Yes |\n",
    "| 22 | 38,000 | Yes | Yes |\n",
    "| 41 | 45,000 | Yes | No |\n",
    "| 53 | 26,000 | No | No |\n",
    "| 48 | 65,000 | Yes | Yes |\n"
   ]
  },
  {
   "cell_type": "markdown",
   "metadata": {
    "deletable": false,
    "editable": false,
    "nbgrader": {
     "cell_type": "markdown",
     "checksum": "f6d8fac06f21901f7fc07fe3546ae047",
     "grade": false,
     "grade_id": "1q",
     "locked": true,
     "schema_version": 3,
     "solution": false
    }
   },
   "source": [
    "**Part 1 [5 points]**: Convert the above table to data. Two variables should be created:\n",
    "        \n",
    "1. $x$ is a $10*3$ matrix that contains the data from columns 0, 1, and 2. Colorado residency is represented by 1 (yes) and 0 (no).\n",
    "2. $y$ contains the labels (college degree), 1 (yes) and 0 (no)."
   ]
  },
  {
   "cell_type": "code",
   "execution_count": 2,
   "metadata": {
    "deletable": false,
    "nbgrader": {
     "cell_type": "code",
     "checksum": "99d49c4279d566943cb0e9e1eed98c4c",
     "grade": true,
     "grade_id": "1a",
     "locked": false,
     "points": 5,
     "schema_version": 3,
     "solution": true,
     "task": false
    }
   },
   "outputs": [],
   "source": [
    "# YOUR CODE HERE\n",
    "x = np.matrix([[27, 41000, 1],[61,52000, 0],[23,24000,1],[29,77000,1],[32,48000,0],[57,120000,1],[22,38000,1],[41,45000,1],[53,26000,0],[48,65000,1]])\n",
    "y = [1,0,0,1,1,1,1,0,0,1]\n",
    "#raise NotImplementedError()"
   ]
  },
  {
   "cell_type": "markdown",
   "metadata": {
    "deletable": false,
    "editable": false,
    "nbgrader": {
     "cell_type": "markdown",
     "checksum": "b2941a4632161ae3fe6a2f752705c717",
     "grade": false,
     "grade_id": "2q1",
     "locked": true,
     "schema_version": 3,
     "solution": false
    }
   },
   "source": [
    "**Part 2 [16 points]:** Criteria for choosing a feature to split.\n",
    "\n",
    "**[2 points]** We start with no splitting. Assuming that our algorithm is deterministic, what is the smallest number of mistakes we can make if we do not use any of the features and what is the algorithm? (**Write your answer in the Markdown cell below.**)"
   ]
  },
  {
   "cell_type": "markdown",
   "metadata": {
    "deletable": false,
    "nbgrader": {
     "cell_type": "markdown",
     "checksum": "483fd69f569c413806fa39b054f7baea",
     "grade": true,
     "grade_id": "2a1",
     "locked": false,
     "points": 2,
     "schema_version": 3,
     "solution": true
    }
   },
   "source": [
    "Assuming that our algorithm is deterministic, the smallest number of mistakes we can make if we do not use any of the features is 4 and the algorithm is Decision stump algorithm."
   ]
  },
  {
   "cell_type": "markdown",
   "metadata": {
    "deletable": false,
    "editable": false,
    "nbgrader": {
     "cell_type": "markdown",
     "checksum": "b94b7d09ef543577a8af7d44377e34e0",
     "grade": false,
     "grade_id": "2q2",
     "locked": true,
     "schema_version": 3,
     "solution": false
    }
   },
   "source": [
    "**[5 points]** We start by considering the variable *Colorado residency*. The first criteria is based on the number of mistakes. We need to build a contingency table between Colorado residency and college degree.\n",
    "\n",
    "How many mistakes will we make if we split based on Colorado residency? (**Answer below by finishing the code.**)"
   ]
  },
  {
   "cell_type": "code",
   "execution_count": 3,
   "metadata": {
    "deletable": false,
    "nbgrader": {
     "cell_type": "code",
     "checksum": "5f454b81086a6ca29e57080641740b00",
     "grade": false,
     "grade_id": "2a2",
     "locked": false,
     "schema_version": 3,
     "solution": true
    }
   },
   "outputs": [
    {
     "data": {
      "text/plain": [
       "3"
      ]
     },
     "execution_count": 3,
     "metadata": {},
     "output_type": "execute_result"
    }
   ],
   "source": [
    "def get_error_in_leaf(y, ids):\n",
    "    \"\"\"\n",
    "    Returns the errors in a leaf node of a decision tree.\n",
    "    This function can be used to answer the previous question automatically.\n",
    "    \n",
    "    :@param y: all labels\n",
    "    :@param ids: the subset of indexes in the leaf node\n",
    "    \"\"\"\n",
    "    # YOUR CODE HERE\n",
    "    n=0\n",
    "    p=0\n",
    "    for id in ids:\n",
    "        if y[id]==0:\n",
    "            n=n+1\n",
    "        else:\n",
    "            p=p+1    \n",
    "    return min(n,p)\n",
    "    raise NotImplementedError()\n",
    "\n",
    "def error_criteria(y, root, left_child, right_child):\n",
    "    \"\"\"\n",
    "    Returns the number of errors if we split the root into the left child and the right child.\n",
    "    \n",
    "    :@param y: all labels\n",
    "    :@param root: indexes of all the data points in the root\n",
    "    :@param left_child: the subset of indexes in the left child\n",
    "    :@param right_child: the subset of indexes in the right child\n",
    "    \"\"\"\n",
    "    # YOUR CODE HERE\n",
    "    left_child_minority=get_error_in_leaf(y,left_child);\n",
    "    right_child_minority=get_error_in_leaf(y,right_child);\n",
    "    return left_child_minority+right_child_minority;\n",
    "    raise NotImplementedError()\n",
    "\n",
    "def value_split_binary_feature(x, y, fid, root, criteria_func):\n",
    "    left_child = [i for i in root if x[i,fid] == 0]\n",
    "    right_child = [i for i in root if x[i,fid] == 1]\n",
    "    return criteria_func(y, root, left_child, right_child)\n",
    "\n",
    "# Colorado residency should correpsond to the third column in your data x\n",
    "fid = 2\n",
    "root = list(range(len(y))) # root includes all data points\n",
    "mistakes = value_split_binary_feature(x, y, fid, root, error_criteria)\n",
    "mistakes"
   ]
  },
  {
   "cell_type": "code",
   "execution_count": null,
   "metadata": {
    "deletable": false,
    "editable": false,
    "nbgrader": {
     "cell_type": "code",
     "checksum": "d81459206763a15d4cf3778019809ab7",
     "grade": true,
     "grade_id": "cell-dd1ff1e66981cc11",
     "locked": true,
     "points": 5,
     "schema_version": 3,
     "solution": false
    }
   },
   "outputs": [],
   "source": []
  },
  {
   "cell_type": "markdown",
   "metadata": {
    "deletable": false,
    "editable": false,
    "nbgrader": {
     "cell_type": "markdown",
     "checksum": "784e0eb1ff6781d5784c9353c7a449d2",
     "grade": false,
     "grade_id": "2a3",
     "locked": true,
     "schema_version": 3,
     "solution": false
    }
   },
   "source": [
    "**[3 points]** Alternatively, we can use information gain to split the data. To get you familiar with MathJax, please write the equation necessary to compute information gain if we split data $D$ into $D_1$ and $D_2$. **Write your answer in the Markdown cell below.**"
   ]
  },
  {
   "cell_type": "markdown",
   "metadata": {
    "deletable": false,
    "nbgrader": {
     "cell_type": "markdown",
     "checksum": "cc02ae4ac9f958fd6b8221f0f8b9e4dc",
     "grade": true,
     "grade_id": "cell-f6f2bbd3029c7b93",
     "locked": false,
     "points": 3,
     "schema_version": 3,
     "solution": true
    }
   },
   "source": [
    "$$IG(X_D,i) = H(X_D) - \\frac{|X_{i,D_1}|}{|X_D|}\\times H(X_{D_1}) - \\frac{|X_{i,D_2}|}{|X_D|}\\times H(X_{D_2})$$"
   ]
  },
  {
   "cell_type": "markdown",
   "metadata": {
    "deletable": false,
    "editable": false,
    "nbgrader": {
     "cell_type": "markdown",
     "checksum": "275c411d60bd1c6d9e8f69a28f251b6b",
     "grade": false,
     "grade_id": "cell-b90188ff50c2eaf9",
     "locked": true,
     "schema_version": 3,
     "solution": false
    }
   },
   "source": [
    "**[6 points]** Now we write a function for computing information gain. Use log2 for entropy computation."
   ]
  },
  {
   "cell_type": "code",
   "execution_count": 128,
   "metadata": {
    "deletable": false,
    "nbgrader": {
     "cell_type": "code",
     "checksum": "541d819cc9062a2c340bc34a52e77397",
     "grade": false,
     "grade_id": "cell-bb989c485308fcc4",
     "locked": false,
     "schema_version": 3,
     "solution": true
    }
   },
   "outputs": [
    {
     "name": "stdout",
     "output_type": "stream",
     "text": [
      "Information gain :  0.0912774462416801\n"
     ]
    }
   ],
   "source": [
    "def entropy(y, ids):\n",
    "    \"\"\"\n",
    "    Returns the entropy in the labels for the data points in ids.\n",
    "    \n",
    "    :@param y: all labels\n",
    "    :@param ids: the indexes of data points\n",
    "    \"\"\"\n",
    "    if len(ids) == 0: # deal with corner case when there is no data point.\n",
    "        return 0\n",
    "    # YOUR CODE HERE\n",
    "    p=0\n",
    "    for i in ids:\n",
    "        if y[i]==1:\n",
    "            p=p+1\n",
    "    p=p/len(ids)\n",
    "    n=1-p\n",
    "    logp=np.log2(p) if p>0 else 0\n",
    "    logn=np.log2(n) if n>0 else 0\n",
    "    en=-p*logp-n*logn\n",
    "    return en\n",
    "    raise NotImplementedError()\n",
    "    \n",
    "def information_gain_criteria(y, root, left_child, right_child):\n",
    "    \"\"\"\n",
    "    Returns the information gain by splitting root into left child and right child.\n",
    "    \n",
    "    :@param y: all labels\n",
    "    :@param root: indexes of all the data points in the root\n",
    "    :@param left_child: the subset of indexes in the left child\n",
    "    :@param right_child: the subset of indexes in the right child\n",
    "    \"\"\"\n",
    "    # YOUR CODE HERE\n",
    "    entropy_D=entropy(y,root);\n",
    "    entropy_D1=entropy(y,left_child);\n",
    "    entropy_D2=entropy(y,right_child);\n",
    "    info_gain=entropy_D-(len(left_child)/len(root))*entropy_D1-(len(right_child)/len(root))*entropy_D2\n",
    "    return info_gain\n",
    "    raise NotImplementedError()\n",
    "    \n",
    "fid = 2\n",
    "root = list(range(len(y))) # root includes all data points\n",
    "IG_ColoradoResidency= value_split_binary_feature(x, y, fid, root, information_gain_criteria)  \n",
    "print(\"Information gain : \",IG_ColoradoResidency)\n"
   ]
  },
  {
   "cell_type": "code",
   "execution_count": null,
   "metadata": {
    "deletable": false,
    "editable": false,
    "nbgrader": {
     "cell_type": "code",
     "checksum": "658e7df9c6dd5157e157ccfe2112ccc7",
     "grade": true,
     "grade_id": "cell-1059c1f151862da1",
     "locked": true,
     "points": 6,
     "schema_version": 3,
     "solution": false
    }
   },
   "outputs": [],
   "source": []
  },
  {
   "cell_type": "markdown",
   "metadata": {
    "deletable": false,
    "editable": false,
    "nbgrader": {
     "cell_type": "markdown",
     "checksum": "58634997a922d2a2e61024bf255b938a",
     "grade": false,
     "grade_id": "cell-7a340274d5eccbf2",
     "locked": true,
     "schema_version": 3,
     "solution": false
    }
   },
   "source": [
    "**Part 3 [9 points]**: Deal with continuous features.\n",
    "    \n",
    "**[6 points]** One way to deal with continuous (or ordinal) data is to define binary features based on thresholding of continuous features like Age and Salary.\n",
    "For example, you might convert ages to 0 if age is less than or equal to 50 and 1 otherwise."
   ]
  },
  {
   "cell_type": "code",
   "execution_count": 129,
   "metadata": {
    "deletable": false,
    "nbgrader": {
     "cell_type": "code",
     "checksum": "af537c67335d4dfb985858a14becafe1",
     "grade": false,
     "grade_id": "cell-94945cb8ee7f6b14",
     "locked": false,
     "schema_version": 3,
     "solution": true
    }
   },
   "outputs": [
    {
     "name": "stdout",
     "output_type": "stream",
     "text": [
      "0.1444843438056279 57\n",
      "0.3219280948873623 26000\n"
     ]
    }
   ],
   "source": [
    "def value_split_continuous_feature(x, y, fid, root, criteria_func=information_gain_criteria):\n",
    "    \"\"\"\n",
    "    Return the best value and its corresponding threshold by splitting based on a continuous feature.\n",
    "\n",
    "    :@param x: all feature values\n",
    "    :@param y: all labels\n",
    "    :@param fid: feature id to split the tree based on\n",
    "    :@param root: indexes of all the data points in the root\n",
    "    :@param criteria_func: the splitting criteria function\n",
    "    \"\"\"\n",
    "    best_value, best_thres = 0, 0\n",
    "    # YOUR CODE HERE\n",
    "    for row in root:\n",
    "        thres=x[row,fid]\n",
    "        #print(thres)\n",
    "        left_child = [i for i in root if x[i,fid] <= thres]\n",
    "        right_child = [i for i in root if x[i,fid] > thres]\n",
    "        info_gain=information_gain_criteria(y, root, left_child, right_child)\n",
    "        if info_gain>=best_value:\n",
    "            best_thres=thres\n",
    "            best_value=info_gain\n",
    "    #raise NotImplementedError()\n",
    "    return best_value, best_thres\n",
    "\n",
    "root = list(range(len(y))) # root includes all data points\n",
    "fid = 0\n",
    "age_value, age_thres = value_split_continuous_feature(x, y, fid, root, information_gain_criteria)\n",
    "IG_Age=age_value\n",
    "print(age_value,age_thres)\n",
    "fid = 1\n",
    "salary_value, salary_thres = value_split_continuous_feature(x, y, fid, root, information_gain_criteria)\n",
    "IG_Salary=salary_value\n",
    "print(salary_value,salary_thres)"
   ]
  },
  {
   "cell_type": "code",
   "execution_count": null,
   "metadata": {
    "deletable": false,
    "editable": false,
    "nbgrader": {
     "cell_type": "code",
     "checksum": "5207ad3b8e16b5567c83e5c810dc7fda",
     "grade": true,
     "grade_id": "cell-b073fa94cd720ea6",
     "locked": true,
     "points": 3,
     "schema_version": 3,
     "solution": false
    }
   },
   "outputs": [],
   "source": []
  },
  {
   "cell_type": "code",
   "execution_count": null,
   "metadata": {
    "deletable": false,
    "editable": false,
    "nbgrader": {
     "cell_type": "code",
     "checksum": "12fbe5a86aee427f5a5197467b7496c4",
     "grade": true,
     "grade_id": "cell-4fca1b5988b02f7a",
     "locked": true,
     "points": 3,
     "schema_version": 3,
     "solution": false
    }
   },
   "outputs": [],
   "source": []
  },
  {
   "cell_type": "markdown",
   "metadata": {
    "deletable": false,
    "editable": false,
    "nbgrader": {
     "cell_type": "markdown",
     "checksum": "5f4f4d8807eecfd2a79176b9ad70e1bb",
     "grade": false,
     "grade_id": "cell-c7507cb413cfd74c",
     "locked": true,
     "schema_version": 3,
     "solution": false
    }
   },
   "source": [
    "**[3 points]** Based on the current information gain by splitting different features, if we build a decision stump (decision tree with depth 1) greedily, which feature should we choose? Why? **Write down your answer in the Markdown cell below.**"
   ]
  },
  {
   "cell_type": "markdown",
   "metadata": {
    "deletable": false,
    "nbgrader": {
     "cell_type": "markdown",
     "checksum": "c4202e9f4e5a2074deb181ae4002b6d3",
     "grade": true,
     "grade_id": "cell-db1dde1ecdde83ee",
     "locked": false,
     "points": 3,
     "schema_version": 3,
     "solution": true
    }
   },
   "source": [
    "Based on the current information gain by splitting different features, if we build a decision stump (decision tree with depth 1) greedily, we should choose the feature Salary. This because only for this feature the information gain is maximum."
   ]
  },
  {
   "cell_type": "markdown",
   "metadata": {
    "deletable": false,
    "editable": false,
    "nbgrader": {
     "cell_type": "markdown",
     "checksum": "9e746c872c2d4569bea86e57d75a58e7",
     "grade": false,
     "grade_id": "q1-extra-credit",
     "locked": true,
     "schema_version": 3,
     "solution": false,
     "task": false
    }
   },
   "source": [
    "**Extra credit [5 points]**: You now have all the ingredients to build a decision tree recursively. You can build a decision tree of depth two and report its classification error on the training data and the tree."
   ]
  },
  {
   "cell_type": "code",
   "execution_count": 131,
   "metadata": {
    "deletable": false,
    "nbgrader": {
     "cell_type": "code",
     "checksum": "206fd92c4c257db4c817bb7167b839dc",
     "grade": true,
     "grade_id": "a1-extra-credit",
     "locked": false,
     "points": 0,
     "schema_version": 3,
     "solution": true,
     "task": false
    }
   },
   "outputs": [
    {
     "name": "stdout",
     "output_type": "stream",
     "text": [
      "Depth  2  Best feature  1  IG  0.3219280948873623\n",
      "Left :  [2, 8] \n",
      "Right :  [0, 1, 3, 4, 5, 6, 7, 9]\n",
      "Depth  1  Best feature  2  IG  0.0\n",
      "Left :  [8] \n",
      "Right :  [2]\n",
      "Depth  1  Best feature  0  IG  0.31127812445913283\n",
      "Left :  [0, 3, 4, 6] \n",
      "Right :  [1, 5, 7, 9]\n",
      "Error :  2\n",
      "Error rate :  0.2\n"
     ]
    }
   ],
   "source": [
    "# YOUR CODE HERE\n",
    "def minority(y):\n",
    "    c, least = len(y), 0\n",
    "    for x in y:\n",
    "        if y.count(x) <= c :\n",
    "            c = y.count(x)\n",
    "            least = x\n",
    "    return c\n",
    "def split_feature(x,y,fid,root,thres,flag):\n",
    "    if(flag==1):\n",
    "        left_child = [i for i in root if x[i,fid] <=thres]\n",
    "        right_child = [i for i in root if x[i,fid] > thres]\n",
    "    else:\n",
    "        left_child = [i for i in root if x[i,fid] ==0]\n",
    "        right_child =[i for i in root if x[i,fid]==1]\n",
    "    return left_child,right_child\n",
    "def DTreeTrain(x,y,features,root,depth_max):\n",
    "    error=0\n",
    "    result=False\n",
    "    #Base conditions\n",
    "    #1. all examples in D have the same label y or no feat\n",
    "    if len(y) > 0 :\n",
    "        result = all(elem == y[0] for elem in y)\n",
    "    if result or len(features)==0 or depth_max==0:\n",
    "        return 0\n",
    "    else:\n",
    "        Best_IG=0\n",
    "        Best_feature=0\n",
    "        for feature in features:\n",
    "            if feature in [0,1]:\n",
    "                IG,thres=value_split_continuous_feature(x,y,feature,root,information_gain_criteria)\n",
    "            else:\n",
    "                IG=value_split_binary_feature(x, y,feature,root,information_gain_criteria)  \n",
    "            if(IG>=Best_IG):\n",
    "                Best_IG=IG\n",
    "                Best_feature=feature\n",
    "        print(\"Depth \",depth_max,\" Best feature \",Best_feature,\" IG \",Best_IG)\n",
    "        features.remove(Best_feature)\n",
    "        if Best_feature in [0,1]:\n",
    "            left_child,right_child=split_feature(x,y,Best_feature,root,thres,1)  \n",
    "        else :\n",
    "            left_child,right_child=split_feature(x,y,Best_feature,root,0,0)  \n",
    "        error+=error_criteria(y,root, left_child, right_child)\n",
    "        print(\"Left : \",left_child,\"\\nRight : \",right_child)\n",
    "        DTreeTrain(x,y,features.copy(),left_child,depth_max-1)\n",
    "        DTreeTrain(x,y,features.copy(),right_child,depth_max-1)\n",
    "    return error\n",
    "    \n",
    "\n",
    "features=[0,1,2]\n",
    "depth_max=2\n",
    "error=DTreeTrain(x,y,features,range(len(y)),depth_max)\n",
    "print(\"Error : \",error)\n",
    "print(\"Error rate : \",error/len(y))\n",
    "\n",
    "#raise NotImplementedError()"
   ]
  },
  {
   "cell_type": "markdown",
   "metadata": {
    "deletable": false,
    "editable": false,
    "nbgrader": {
     "cell_type": "markdown",
     "checksum": "0081bf00cc2f9d86f89ee095b3330a7a",
     "grade": false,
     "grade_id": "cell-44230b1deea50132",
     "locked": true,
     "schema_version": 3,
     "solution": false
    }
   },
   "source": [
    "### [35 points] Problem 2- KNN for Handwritten Digit Recognition \n",
    "***\n",
    "\n",
    "In this problem you'll implement a K-Nearest Neighbor framework to take an image of a handwritten digit and predict which digit it corresponds to.  \n",
    "\n",
    "![Samples of Handwritten Digits](figs/mnist.png \"MNIST Digits\")\n",
    "\n",
    "To keep run times down we'll only consider the subset of the MNIST data set consisting of the digits $3, 7, 8$ and $9$. \n",
    "\n",
    "**Part A [6 points]**: Executing the following cells will load training and validation data and plot an example handwritten digit.  Explore the training and validation sets and answer the following questions: \n",
    "\n",
    "- How many pixels are in each image in the data set?  \n",
    "- How many examples are there from each class in the training set? \n",
    "- How many examples are there from each class in the validation set? "
   ]
  },
  {
   "cell_type": "code",
   "execution_count": 132,
   "metadata": {
    "deletable": false,
    "editable": false,
    "nbgrader": {
     "cell_type": "code",
     "checksum": "f7f6f7ba21c97621ddcc7fd35fca110a",
     "grade": false,
     "grade_id": "cell-33dd48d1911a6577",
     "locked": true,
     "schema_version": 3,
     "solution": false
    }
   },
   "outputs": [],
   "source": [
    "X_train, y_train, X_valid, y_valid = pickle.load(gzip.open(\"data/mnist21x21_3789.pklz\", \"rb\"))"
   ]
  },
  {
   "cell_type": "code",
   "execution_count": 133,
   "metadata": {
    "deletable": false,
    "editable": false,
    "nbgrader": {
     "cell_type": "code",
     "checksum": "1a297399d639ff40d7083d6b4d376af0",
     "grade": false,
     "grade_id": "cell-748091ebd0ea1964",
     "locked": true,
     "schema_version": 3,
     "solution": false
    }
   },
   "outputs": [],
   "source": [
    "def view_digit(x, label=None):\n",
    "    fig = plt.figure(figsize=(3,3))\n",
    "    plt.imshow(x.reshape(21,21), cmap='gray');\n",
    "    plt.xticks([]); plt.yticks([]);\n",
    "    if label: plt.xlabel(\"true: {}\".format(label), fontsize=16)"
   ]
  },
  {
   "cell_type": "code",
   "execution_count": 8,
   "metadata": {
    "deletable": false,
    "editable": false,
    "nbgrader": {
     "cell_type": "code",
     "checksum": "04265b6573e9505a3e07f21c6bca2df6",
     "grade": false,
     "grade_id": "cell-8154afdfafb72531",
     "locked": true,
     "schema_version": 3,
     "solution": false
    }
   },
   "outputs": [
    {
     "data": {
      "image/png": "[encoded data removed]",
      "text/plain": [
       "<Figure size 216x216 with 1 Axes>"
      ]
     },
     "metadata": {},
     "output_type": "display_data"
    }
   ],
   "source": [
    "training_index = 0\n",
    "view_digit(X_train[training_index], y_train[training_index])"
   ]
  },
  {
   "cell_type": "code",
   "execution_count": 134,
   "metadata": {
    "deletable": false,
    "nbgrader": {
     "cell_type": "code",
     "checksum": "29ef65aa4dc2e80175915f8f8be2635f",
     "grade": false,
     "grade_id": "cell-50674b47f654cd5f",
     "locked": false,
     "schema_version": 3,
     "solution": true,
     "task": false
    }
   },
   "outputs": [
    {
     "name": "stdout",
     "output_type": "stream",
     "text": [
      "Number of pixels in each image :  441 \n",
      "Number of examples in training set :  Counter({7: 1000, 9: 1000, 3: 1000, 8: 1000}) \n",
      "Number of examples in validation set :  Counter({8: 250, 9: 250, 7: 250, 3: 250})\n"
     ]
    }
   ],
   "source": [
    "# Write code for answering the questions in Part A and then put your answer in the Markdown cell below.\n",
    "# Make sure to set each of the variables below to the correct value. Do not rename the variables.\n",
    "N_pixels_per_img = None\n",
    "N_training_examples = None\n",
    "N_validation_examples = None\n",
    "# YOUR CODE HERE\n",
    "from collections import Counter\n",
    "N_pixels_per_img,N_training_examples,N_validation_examples=len(X_train[0]),Counter(y_train),Counter(y_valid)\n",
    "print(\"Number of pixels in each image : \",N_pixels_per_img)\n",
    "print(\"Number of examples in training set : \",N_training_examples)\n",
    "print(\"\\Number of examples in validation set : \",N_validation_examples)\n",
    "#raise NotImplementedError()"
   ]
  },
  {
   "cell_type": "code",
   "execution_count": null,
   "metadata": {
    "deletable": false,
    "editable": false,
    "nbgrader": {
     "cell_type": "code",
     "checksum": "77491f303ce89972b67a25b756dcdb72",
     "grade": true,
     "grade_id": "cell-4b99d8373143f879",
     "locked": true,
     "points": 6,
     "schema_version": 3,
     "solution": false,
     "task": false
    }
   },
   "outputs": [],
   "source": []
  },
  {
   "cell_type": "markdown",
   "metadata": {
    "deletable": false,
    "nbgrader": {
     "cell_type": "markdown",
     "checksum": "3b50c3b1db910c49ecb8650de370f042",
     "grade": true,
     "grade_id": "cell-738b21d7f854fdb0",
     "locked": false,
     "points": 0,
     "schema_version": 3,
     "solution": true
    }
   },
   "source": [
    "Number of pixels in each image :  441 \n",
    "Number of examples in training set : 4000\n",
    "        class 7 has 1000 examples\n",
    "        class 9 has 1000 examples\n",
    "        class 3 has 1000 examples\n",
    "        class 8 has 1000 examples\n",
    "Number of examples in validation set : 1000\n",
    "        class 7 has 250 examples\n",
    "        class 9 has 250 examples\n",
    "        class 3 has 250 examples\n",
    "        class 8 has 250 examples"
   ]
  },
  {
   "cell_type": "code",
   "execution_count": 135,
   "metadata": {
    "deletable": false,
    "nbgrader": {
     "cell_type": "code",
     "checksum": "9d713cd816b004160661de95287b6dd3",
     "grade": false,
     "grade_id": "cell-ea6def68186d971b",
     "locked": false,
     "schema_version": 3,
     "solution": true,
     "task": false
    }
   },
   "outputs": [],
   "source": [
    "class KNN:\n",
    "    \"\"\"\n",
    "    Class to store data for regression problems \n",
    "    \"\"\"\n",
    "    def __init__(self, X_train, y_train, K=5, distance_weighted=False):\n",
    "        \"\"\"\n",
    "        Creates a kNN instance\n",
    "\n",
    "        :param X_train: Training data input in 2D ndarray \n",
    "        :param y_train: Training data output in 1D ndarray \n",
    "        :param K: The number of nearest points to consider in classification\n",
    "        :param distance_weighted: Bool indicating whether to use distance weighting\n",
    "        \"\"\"\n",
    "        \n",
    "        # Import and build the BallTree on training features \n",
    "        from sklearn.neighbors import BallTree\n",
    "        self.balltree = BallTree(X_train)\n",
    "        \n",
    "        # Cache training labels and parameter K \n",
    "        self.y_train = y_train\n",
    "        self.K = K \n",
    "        \n",
    "        # Boolean flag indicating whether to do distance weighting \n",
    "        self.distance_weighted = distance_weighted\n",
    "        \n",
    "    def majority(self, neighbor_indices, neighbor_distances=None):\n",
    "        \"\"\"\n",
    "        Given indices of nearest neighbors in training set, return the majority label. \n",
    "        Break ties by considering 1 fewer neighbor until a clear winner is found. \n",
    "\n",
    "        :param neighbor_indices: The indices of the K nearest neighbors in self.X_train \n",
    "        :param neighbor_distances: Corresponding distances from query point to K nearest neighbors. \n",
    "        \"\"\"\n",
    "        # YOUR CODE HERE\n",
    "        if(self.distance_weighted==False):\n",
    "            y=[self.y_train[ind] for ind in neighbor_indices]\n",
    "            #print(\"Y : \",y)\n",
    "            counts=Counter(y)\n",
    "            #print(\"Counts : \",counts)\n",
    "            flag=0\n",
    "            if len(counts)>1:\n",
    "                most_common=counts.most_common(2)\n",
    "                if most_common[0][1]==most_common[1][1]: \n",
    "                    flag=1\n",
    "            if(flag==0):\n",
    "                #No Tie\n",
    "                most_common=counts.most_common(1)\n",
    "                return most_common[0][0]\n",
    "            else:\n",
    "                #Tie\n",
    "                #Neighbor_distances in incresing order so delete last neighbor's index \n",
    "                reduced_neighbor_indices=neighbor_indices[:-1]\n",
    "                return self.majority(reduced_neighbor_indices)\n",
    "            \n",
    "        else: #WEIGHTED KNN#\n",
    "            classes={}\n",
    "            for i in range(len(neighbor_indices)):\n",
    "                index=neighbor_indices[i]\n",
    "                c =self.y_train[index]\n",
    "                if c in classes :\n",
    "                    if neighbor_distances[i]==0:\n",
    "                        classes[c]+=999999 \n",
    "                    else:\n",
    "                        classes[c]+=1/neighbor_distances[i] \n",
    "                else:\n",
    "                    if neighbor_distances[i]==0:\n",
    "                        classes[c]=999999 \n",
    "                    else:\n",
    "                        classes[c]=1/neighbor_distances[i]  \n",
    "            v=list(classes.values())\n",
    "            k=list(classes.keys())\n",
    "            label= k[v.index(max(v))]\n",
    "            Ties = [(i,j) for i in classes for j in classes if (classes[i]==classes[j]).all() and i != j and classes[i]==max(v)]\n",
    "            if(len(Ties)==0):\n",
    "                return label\n",
    "            else: \n",
    "            #Tie\n",
    "                #Neighbor_distances in incresing order so delete last neighbor's index \n",
    "                reduced_neighbor_indices=neighbor_indices[:-1]\n",
    "                reduced_neighbor_distances=neighbor_distances[:-1]\n",
    "                return self.majority(reduced_neighbor_indices,reduced_neighbor_distances)\n",
    "        #raise NotImplementedError() \n",
    "\n",
    "    def classify(self, x):\n",
    "        \"\"\"\n",
    "        Given a query point, return the predicted label \n",
    "        \n",
    "        :param x: a query point stored as an ndarray  \n",
    "        \"\"\"\n",
    "        # YOUR CODE HERE\n",
    "        neighbor_distances, neighbor_indices = self.balltree.query(x.reshape(1,-1), self.K) \n",
    "        if(self.distance_weighted==False):\n",
    "            return self.majority(neighbor_indices[0],neighbor_distances[0])\n",
    "        else:\n",
    "            return self.majority(neighbor_indices[0],neighbor_distances[0])\n",
    "        raise NotImplementedError()\n",
    "        \n",
    "    def predict(self, X):\n",
    "        \"\"\"\n",
    "        Given an ndarray of query points, return yhat, an ndarray of predictions \n",
    "\n",
    "        :param X: an (m x p) dimension ndarray of points to predict labels for \n",
    "        \"\"\"\n",
    "        # YOUR CODE HERE\n",
    "        self.X=X\n",
    "        predicted_labels=[self.classify(x) for x in X]\n",
    "        return predicted_labels\n",
    "        raise NotImplementedError()"
   ]
  },
  {
   "cell_type": "markdown",
   "metadata": {},
   "source": [
    "**Part B [10 points]**: Modify the class above to implement an Unweighted KNN classifier.  There are three methods that you need to complete: \n",
    "\n",
    "- `predict`: Given an $m \\times p$ matrix of validation data with $m$ examples each with $p$ features, return a length-$m$ vector of predicted labels by calling the `classify` function on each example. \n",
    "- `classify`: Given a single query example with $p$ features, return its predicted class label as an integer using KNN by calling the `majority` function. \n",
    "- `majority`: Given an array of indices into the training set corresponding to the $K$ training examples that are nearest to the query point, return the majority label as an integer.  If there is a tie for the majority label using $K$ nearest neighbors, reduce $K$ by 1 and try again.  Continue reducing $K$ until there is a winning label. \n",
    "\n",
    "**Notes**: \n",
    "- Don't even think about implementing nearest-neighbor search or any distance metrics yourself.  Instead, go read the documentation for Scikit-Learn's [BallTree](http://scikit-learn.org/stable/modules/generated/sklearn.neighbors.BallTree.html) object.  You will find that its implemented [query](http://scikit-learn.org/stable/modules/generated/sklearn.neighbors.BallTree.html#sklearn.neighbors.BallTree.query) method can do most of the heavy lifting for you. \n",
    "- **Do not** use Scikit-Learn's KNeighborsClassifier in this problem.  We're implementing this ourselves. \n",
    "- You don't need to worry about the `distance_weighted` flag until **Part C**, but we recommend reading ahead a bit. It might be good to think about your implementation of **Part C** before implementing **Part B**. \n",
    "- When you think you're done, execute the following cell to run 4 unit tests based on the example starting on Slide 15 of the [KNN Lecture](https://chenhaot.com/courses/csci4622/slides/lec5.pdf).  "
   ]
  },
  {
   "cell_type": "code",
   "execution_count": 136,
   "metadata": {
    "deletable": false,
    "editable": false,
    "nbgrader": {
     "cell_type": "code",
     "checksum": "5ef6933cca19f90612c0b56ad1ce7820",
     "grade": true,
     "grade_id": "cell-798d57fabb83fe1b",
     "locked": true,
     "points": 10,
     "schema_version": 3,
     "solution": false,
     "task": false
    }
   },
   "outputs": [
    {
     "name": "stderr",
     "output_type": "stream",
     "text": [
      "test1NNclassify (tests.tests.TestUnweightedKNN) ... ok\n",
      "test2NNclassify (tests.tests.TestUnweightedKNN) ... ok\n",
      "test3NNclassify (tests.tests.TestUnweightedKNN) ... ok\n",
      "test3NNpredict (tests.tests.TestUnweightedKNN) ... ok\n",
      "\n",
      "----------------------------------------------------------------------\n",
      "Ran 4 tests in 0.004s\n",
      "\n",
      "OK\n"
     ]
    }
   ],
   "source": [
    "from tests import tests\n",
    "tests.run_test_suite('prob 2A', KNN)"
   ]
  },
  {
   "cell_type": "markdown",
   "metadata": {
    "deletable": false,
    "editable": false,
    "nbgrader": {
     "cell_type": "markdown",
     "checksum": "59fbe61d9534db3129e87b6fd320714c",
     "grade": false,
     "grade_id": "cell-ea5a98439cad3d65",
     "locked": true,
     "schema_version": 3,
     "solution": false
    }
   },
   "source": [
    "**Part C [5 points]**: Modify the `KNN` class to perform the distance-weighted KNN classification.\n",
    "The so-called Distance-Weighted KNN classifier assigns weights to the nearest-neighbor training examples proportional to the inverse-distance from the training example to the query point.  Classification is performed by summing the weights associated with each class and predicting the class with the highest weighted-majority vote.  Mathematically we might describe the weighted-vote for a class $c$ as \n",
    "\n",
    "$$\n",
    "\\textrm{Weighted-Vote}(c) = \\displaystyle\\sum_{i \\in {\\cal N}_K} I(y_i = c) \\times \\dfrac{1}{\\|{\\bf x}_i - {\\bf x}\\|}\n",
    "$$\n",
    "\n",
    "A word of caution: it's certainly possible that a query point could be distance $0$ away from some training example.  If this happens your implementation should handle it gracefully and return the appropriate class label.   \n",
    "\n",
    "When you think you're done, execute the following cell to run three final unit tests corresponding to the example on Slide 21 of the [KNN Lecture](https://chenhaot.com/courses/csci4622/slides/lec5.pdf). Make sure that the changes you make in **Part C** do not affect the unit tests from **Part B**.   \n"
   ]
  },
  {
   "cell_type": "code",
   "execution_count": 4,
   "metadata": {
    "deletable": false,
    "editable": false,
    "nbgrader": {
     "cell_type": "code",
     "checksum": "ee661642d97a144e6c608a9f3b81d60d",
     "grade": true,
     "grade_id": "cell-3949b9f6b901e47a",
     "locked": true,
     "points": 5,
     "schema_version": 3,
     "solution": false,
     "task": false
    }
   },
   "outputs": [
    {
     "ename": "NameError",
     "evalue": "name 'KNN' is not defined",
     "output_type": "error",
     "traceback": [
      "\u001b[0;31m---------------------------------------------------------------------------\u001b[0m",
      "\u001b[0;31mNameError\u001b[0m                                 Traceback (most recent call last)",
      "\u001b[0;32m<ipython-input-4-7bbc56f416aa>\u001b[0m in \u001b[0;36m<module>\u001b[0;34m\u001b[0m\n\u001b[1;32m      1\u001b[0m \u001b[0;32mfrom\u001b[0m \u001b[0mtests\u001b[0m \u001b[0;32mimport\u001b[0m \u001b[0mtests\u001b[0m\u001b[0;34m\u001b[0m\u001b[0;34m\u001b[0m\u001b[0m\n\u001b[0;32m----> 2\u001b[0;31m \u001b[0mtests\u001b[0m\u001b[0;34m.\u001b[0m\u001b[0mrun_test_suite\u001b[0m\u001b[0;34m(\u001b[0m\u001b[0;34m'prob 2B'\u001b[0m\u001b[0;34m,\u001b[0m \u001b[0mKNN\u001b[0m\u001b[0;34m)\u001b[0m\u001b[0;34m\u001b[0m\u001b[0;34m\u001b[0m\u001b[0m\n\u001b[0m",
      "\u001b[0;31mNameError\u001b[0m: name 'KNN' is not defined"
     ]
    }
   ],
   "source": [
    "from tests import tests\n",
    "tests.run_test_suite('prob 2B', KNN)"
   ]
  },
  {
   "cell_type": "markdown",
   "metadata": {},
   "source": [
    "**Part D [7 points]**: Use your `KNN` class to perform Unweighted KNN on the validation data with $K=3$ and do the following: \n",
    "\n",
    "- **[2 points]** Create a **confusion matrix** (feel free to use the Scikit-Learn [confusion_matrix](http://scikit-learn.org/stable/modules/generated/sklearn.metrics.confusion_matrix.html) function).  \n"
   ]
  },
  {
   "cell_type": "code",
   "execution_count": 138,
   "metadata": {
    "deletable": false,
    "nbgrader": {
     "cell_type": "code",
     "checksum": "29250910d846e90518c035d8f5c5b3c8",
     "grade": true,
     "grade_id": "cell-4bdb9c57c0f418e2",
     "locked": false,
     "points": 2,
     "schema_version": 3,
     "solution": true
    }
   },
   "outputs": [
    {
     "name": "stdout",
     "output_type": "stream",
     "text": [
      "[[236   2  10   2]\n",
      " [  1 244   1   4]\n",
      " [  9   0 233   8]\n",
      " [  3   3   0 244]]\n"
     ]
    }
   ],
   "source": [
    "knn = KNN(X_train, y_train, K=3, distance_weighted=True)\n",
    "yhat_valid = knn.predict(X_valid)\n",
    "# YOUR CODE HERE\n",
    "from sklearn.metrics import confusion_matrix\n",
    "C = confusion_matrix(y_valid,yhat_valid)\n",
    "print(C)\n",
    "#raise NotImplementedError()"
   ]
  },
  {
   "cell_type": "markdown",
   "metadata": {
    "deletable": false,
    "editable": false,
    "nbgrader": {
     "cell_type": "markdown",
     "checksum": "a093ae63ff1702589cafc762fd4b85b8",
     "grade": false,
     "grade_id": "cell-2b9ba29fce61478c",
     "locked": true,
     "schema_version": 3,
     "solution": false
    }
   },
   "source": [
    "- **[2 points]** Based on your confusion matrix, which digits seem to get confused with other digits the most? "
   ]
  },
  {
   "cell_type": "markdown",
   "metadata": {
    "deletable": false,
    "nbgrader": {
     "cell_type": "markdown",
     "checksum": "1c1db39e97784b55e28384ad058367b9",
     "grade": true,
     "grade_id": "cell-796deb7245c9b7b7",
     "locked": false,
     "points": 2,
     "schema_version": 3,
     "solution": true
    }
   },
   "source": [
    "9 gets confused with other digits the most.\n",
    "When considering just 2 digits, 3 gets misclassified as 8 the most"
   ]
  },
  {
   "cell_type": "markdown",
   "metadata": {
    "deletable": false,
    "editable": false,
    "nbgrader": {
     "cell_type": "markdown",
     "checksum": "156105d8f73b7c4782d401c04d2f5d87",
     "grade": false,
     "grade_id": "cell-5134547bbf6d382e",
     "locked": true,
     "schema_version": 3,
     "solution": false
    }
   },
   "source": [
    "\n",
    "- **[3 points]** Find one misclassified validation example and plot it with the `view_digit` function along with plots of its three nearest neighbors in the training set. \n"
   ]
  },
  {
   "cell_type": "code",
   "execution_count": 141,
   "metadata": {
    "deletable": false,
    "nbgrader": {
     "cell_type": "code",
     "checksum": "dcebbe203ec37e8edd3b24a2334b9234",
     "grade": true,
     "grade_id": "cell-6d2dafb55f88cc7c",
     "locked": false,
     "points": 3,
     "schema_version": 3,
     "solution": true,
     "task": false
    }
   },
   "outputs": [
    {
     "name": "stdout",
     "output_type": "stream",
     "text": [
      "8  MISCLASSIFIED AS  9\n"
     ]
    },
    {
     "data": {
      "image/png": "[encoded data removed]",
      "text/plain": [
       "<Figure size 216x216 with 1 Axes>"
      ]
     },
     "metadata": {},
     "output_type": "display_data"
    },
    {
     "data": {
      "image/png": "[encoded data removed]",
      "text/plain": [
       "<Figure size 216x216 with 1 Axes>"
      ]
     },
     "metadata": {},
     "output_type": "display_data"
    },
    {
     "data": {
      "image/png": "[encoded data removed]",
      "text/plain": [
       "<Figure size 216x216 with 1 Axes>"
      ]
     },
     "metadata": {},
     "output_type": "display_data"
    },
    {
     "data": {
      "image/png": "[encoded data removed]",
      "text/plain": [
       "<Figure size 216x216 with 1 Axes>"
      ]
     },
     "metadata": {},
     "output_type": "display_data"
    }
   ],
   "source": [
    "# YOUR CODE HERE\n",
    "for i in range(len(yhat_valid)):\n",
    "    if yhat_valid[i]!=y_valid[i]:\n",
    "        print(y_valid[i],\" MISCLASSIFIED AS \",yhat_valid[i])\n",
    "        view_digit(X_valid[i], y_valid[i])\n",
    "        neighbor_distances, neighbor_indices = knn.balltree.query(X_valid[i].reshape(1,-1),3) \n",
    "        for index in neighbor_indices[0]:\n",
    "            view_digit(X_train[index],y_train[index])\n",
    "        break\n",
    "#raise NotImplementedError()"
   ]
  },
  {
   "cell_type": "markdown",
   "metadata": {},
   "source": [
    "**Part E [7 points]**: **[4 points]** Create a plot of the accuracy of both Unweighted and Distance-Weighted KNN on the validation set on the same set of axes for $K=1, 2, \\ldots, 20$ (feel free to go out to $K=30$ if your implementation is efficient enough to allow it).\n"
   ]
  },
  {
   "cell_type": "code",
   "execution_count": 142,
   "metadata": {
    "deletable": false,
    "nbgrader": {
     "cell_type": "code",
     "checksum": "2dc65c059ffb39afb7afba922268b2e2",
     "grade": true,
     "grade_id": "cell-173f9cb33d3db963",
     "locked": false,
     "points": 4,
     "schema_version": 3,
     "solution": true
    }
   },
   "outputs": [
    {
     "data": {
      "image/png": "[encoded data removed]",
      "text/plain": [
       "<Figure size 864x504 with 1 Axes>"
      ]
     },
     "metadata": {
      "needs_background": "light"
     },
     "output_type": "display_data"
    }
   ],
   "source": [
    "acc = []\n",
    "wacc = []\n",
    "allks = range(1,30)\n",
    "\n",
    "# YOUR CODE HERE\n",
    "from sklearn.metrics import accuracy_score\n",
    "for K in allks:\n",
    "    knn = KNN(X_train, y_train, K, distance_weighted=False)\n",
    "    yhat_valid = knn.predict(X_valid)\n",
    "    acc.append(accuracy_score(y_valid,yhat_valid,normalize=False))\n",
    "    knn = KNN(X_train, y_train, K, distance_weighted=True)\n",
    "    yhat_valid = knn.predict(X_valid)\n",
    "    wacc.append(accuracy_score(y_valid,yhat_valid,normalize=False))\n",
    "#raise NotImplementedError()\n",
    "    \n",
    "fig, ax = plt.subplots(nrows=1,ncols=1,figsize=(12,7))\n",
    "ax.plot(allks, acc, marker=\"o\", color=\"steelblue\", lw=3, label=\"unweighted\")\n",
    "ax.plot(allks, wacc, marker=\"o\", color=\"green\", lw=3, label=\"weighted\")\n",
    "ax.set_xlabel(\"number neighbors\", fontsize=16)\n",
    "ax.set_ylabel(\"accuracy\", fontsize=16)\n",
    "ax.legend(loc=\"upper right\")\n",
    "plt.xticks(range(1,31,2))\n",
    "ax.grid(alpha=0.25)"
   ]
  },
  {
   "cell_type": "markdown",
   "metadata": {
    "deletable": false,
    "editable": false,
    "nbgrader": {
     "cell_type": "markdown",
     "checksum": "7ae52761146cb44f609ab681ee91ee09",
     "grade": false,
     "grade_id": "cell-fc4bc58f96c7bf69",
     "locked": true,
     "schema_version": 3,
     "solution": false
    }
   },
   "source": [
    "**[4 points]** Based on the plot, answer the following questions: \n",
    "\n",
    "- For general $K$, does Unweighted or Weighted KNN appear to perform better? \n",
    "- Which value of $K$ attains the best accuracy on the validation set? \n",
    "\n",
    "Open questions: Why do you think this is the case? How can you explain this?"
   ]
  },
  {
   "cell_type": "markdown",
   "metadata": {
    "deletable": false,
    "nbgrader": {
     "cell_type": "markdown",
     "checksum": "edde026b64374dd536303a5b9501c3e5",
     "grade": true,
     "grade_id": "cell-7ee1e188129c22ad",
     "locked": false,
     "points": 3,
     "schema_version": 3,
     "solution": true
    }
   },
   "source": [
    "Based on the plot,\n",
    "1. For general K, Weighted KNN appears to perform better. This is clearly evident in the above plot.\n",
    "2. K=5 attains the best accuracy on the validation set which is around 97%.\n",
    "\n",
    "This is because it is more intuitive to classify closer points as the same class. In the case of unweighted KNN, there could be farther points contributing to the majority class while there could be the minority class point coinciding with the point to be classified."
   ]
  },
  {
   "cell_type": "markdown",
   "metadata": {
    "deletable": false,
    "editable": false,
    "nbgrader": {
     "cell_type": "markdown",
     "checksum": "6aabf1ef370badc71b291d0bba19f9e9",
     "grade": false,
     "grade_id": "3intro",
     "locked": true,
     "schema_version": 3,
     "solution": false
    }
   },
   "source": [
    "### [30 points] Problem 3 - Polynomial Regression  and the Bias-Variance Trade-Off\n",
    "***\n",
    "\n",
    "In this problem you will use polynomial regression to explore the Bias-Variance Trade-Off. Assume that our data comes from a model of the form \n",
    "\n",
    "$$Y = f(X) + \\epsilon ~~\\textrm{ where }~~ \\epsilon \\sim N(0,\\sigma^2)$$ \n",
    "\n",
    "For our experiments we'll use $f(x) = \\sin(\\pi x)$. The following functions can be used to generate data from this distribution:    "
   ]
  },
  {
   "cell_type": "code",
   "execution_count": 17,
   "metadata": {},
   "outputs": [],
   "source": [
    "def get_f(x):\n",
    "    \"\"\"\n",
    "    Returns sin(pi*x) for array of x values\n",
    "    \n",
    "    :@param x: ndarray of feature values\n",
    "    \"\"\"\n",
    "    return np.sin(np.pi * x)"
   ]
  },
  {
   "cell_type": "markdown",
   "metadata": {
    "deletable": false,
    "editable": false,
    "nbgrader": {
     "cell_type": "markdown",
     "checksum": "2af47cfa02b4ebd017c656c6a951126e",
     "grade": false,
     "grade_id": "3aq1",
     "locked": true,
     "schema_version": 3,
     "solution": false
    }
   },
   "source": [
    "**Part A [6 points]**: **[3 points]** Generate a sample of size $n=20$ for $x$-values chosen from a uniform distribution between $0$ and $1$."
   ]
  },
  {
   "cell_type": "code",
   "execution_count": 144,
   "metadata": {
    "deletable": false,
    "nbgrader": {
     "cell_type": "code",
     "checksum": "43f4a4b0a8f883bb53e60102c70d80c3",
     "grade": true,
     "grade_id": "3aa1",
     "locked": false,
     "points": 3,
     "schema_version": 3,
     "solution": true
    }
   },
   "outputs": [
    {
     "data": {
      "text/plain": [
       "(array([0.52825018, 0.77517465, 0.48859056, 0.15403456, 0.53051013,\n",
       "        0.87110221, 0.52448251, 0.82205793, 0.11919098, 0.75805305,\n",
       "        0.27671767, 0.57882322, 0.19098048, 0.63526803, 0.33413657,\n",
       "        0.32706988, 0.31343406, 0.89647603, 0.22925715, 0.50746236]),\n",
       " array([2.8464399 , 2.49940637, 2.84973332, 2.31562283, 2.84578551,\n",
       "        2.24434327, 2.84741922, 2.38073254, 2.21613589, 2.53936868,\n",
       "        2.61427509, 2.81987159, 2.41500398, 2.76143209, 2.71766002,\n",
       "        2.70639542, 2.68347196, 2.16990252, 2.50993516, 2.85010086]))"
      ]
     },
     "execution_count": 144,
     "metadata": {},
     "output_type": "execute_result"
    }
   ],
   "source": [
    "def get_y(x, sigma=1.0):\n",
    "    \"\"\"\n",
    "    Returns y values based on the data generation process.\n",
    "    Note the noise term.\n",
    "    \n",
    "    :@param x: ndarray of feature values\n",
    "    \"\"\"\n",
    "    # YOUR CODE HERE\n",
    "    epsilon=np.random.normal(0,sigma)\n",
    "    y=get_f(x)+epsilon\n",
    "    return y\n",
    "    raise NotImplementedError()\n",
    "    \n",
    "def sample(n, sigma=1.0):\n",
    "    \"\"\"Return tuples of data (x, y) that come from \n",
    "    the data generation process.\"\"\"\n",
    "    x = np.random.uniform(0, 1, size=n)\n",
    "    y = get_y(x, sigma=sigma)\n",
    "    return x, y\n",
    "\n",
    "sample(20)"
   ]
  },
  {
   "cell_type": "markdown",
   "metadata": {
    "deletable": false,
    "editable": false,
    "nbgrader": {
     "cell_type": "markdown",
     "checksum": "57c5f86cd9d6bd94b429684d981817b4",
     "grade": false,
     "grade_id": "3aq2",
     "locked": true,
     "schema_version": 3,
     "solution": false
    }
   },
   "source": [
    "**[3 points]**: Make a scatter plot of the data overlayed with the curve of the true function $f(x)=\\sin(\\pi x)$. "
   ]
  },
  {
   "cell_type": "code",
   "execution_count": 151,
   "metadata": {
    "deletable": false,
    "nbgrader": {
     "cell_type": "code",
     "checksum": "3bcb4bd020d34168ddfaf848452d9d96",
     "grade": true,
     "grade_id": "3aa2",
     "locked": false,
     "points": 3,
     "schema_version": 3,
     "solution": true
    }
   },
   "outputs": [
    {
     "data": {
      "text/plain": [
       "<matplotlib.legend.Legend at 0x1a1ebaea58>"
      ]
     },
     "execution_count": 151,
     "metadata": {},
     "output_type": "execute_result"
    },
    {
     "data": {
      "image/png": "[encoded data removed]",
      "text/plain": [
       "<Figure size 504x504 with 1 Axes>"
      ]
     },
     "metadata": {
      "needs_background": "light"
     },
     "output_type": "display_data"
    }
   ],
   "source": [
    "n = 20\n",
    "x, y = sample(n, sigma=.15)\n",
    "xplot = np.linspace(0, 1, 200)\n",
    "fplot = get_f(xplot)\n",
    "fig, ax = plt.subplots(nrows=1, ncols=1, figsize=(7,7))\n",
    "fx=[]\n",
    "# YOUR CODE HERE\n",
    "ax.scatter(xplot, fplot, marker=\"o\", color=\"steelblue\", label=\"f(x)\")\n",
    "ax.scatter(x, y, marker=\"o\", color=\"green\", label=\"f(x)+E\")\n",
    "ax.set_xlabel(\"X\", fontsize=16)\n",
    "ax.set_ylabel(\"Y\", fontsize=16)\n",
    "ax.legend(loc=\"upper right\")\n",
    "#raise NotImplementedError()"
   ]
  },
  {
   "cell_type": "markdown",
   "metadata": {
    "deletable": false,
    "editable": false,
    "nbgrader": {
     "cell_type": "markdown",
     "checksum": "014253af9c8f5bcfae35444f2c638261",
     "grade": false,
     "grade_id": "3bq1",
     "locked": true,
     "schema_version": 3,
     "solution": false
    }
   },
   "source": [
    "**Part B [6 points]**: **[3 points]** Next we need to create a function that can fit a polynomial model to training data and make predictions for unseen data.  Complete the function `poly_predict` below to accomplish this.  Note that there are many ways to do this in Python.  Later this week we'll look into doing this with Scikit-Learn.  You're free to implement it using Scikit-Learn, but you might want to look into Numpy's polynomial fitting functions, [polyfit](https://docs.scipy.org/doc/numpy/reference/generated/numpy.polyfit.html) and [polyval](https://docs.scipy.org/doc/numpy/reference/generated/numpy.polyval.html).\n"
   ]
  },
  {
   "cell_type": "code",
   "execution_count": 152,
   "metadata": {
    "deletable": false,
    "nbgrader": {
     "cell_type": "code",
     "checksum": "ad18f73402f92e0d9983d4e9b899e137",
     "grade": true,
     "grade_id": "3ba1",
     "locked": false,
     "points": 3,
     "schema_version": 3,
     "solution": true
    }
   },
   "outputs": [],
   "source": [
    "def poly_predict(x_train, y_train, x_valid, deg):\n",
    "    \"\"\"\n",
    "    Function to train polynomial regression model on training data\n",
    "    and then return a vector of predictions on validation data\n",
    "    \n",
    "    :@param x_train: vector of training features\n",
    "    :@param y_train: vector of training responses\n",
    "    :@param x_valid: vector of validation features to make predictions with\n",
    "    :@param deg: degree of the polynomial model \n",
    "    \"\"\"\n",
    "    \n",
    "    # YOUR CODE HERE\n",
    "    coefs = np.polyfit(x_train, y_train, deg)\n",
    "    ffit = np.polyval(coefs,x_valid)\n",
    "    return ffit\n",
    "    #raise NotImplementedError()"
   ]
  },
  {
   "cell_type": "markdown",
   "metadata": {
    "deletable": false,
    "editable": false,
    "nbgrader": {
     "cell_type": "markdown",
     "checksum": "a224c6c352c70260343437c56f7cae9e",
     "grade": false,
     "grade_id": "3bq2",
     "locked": true,
     "schema_version": 3,
     "solution": false
    }
   },
   "source": [
    "**[3 points]**: Demonstrate that your function is working by using it to generate a plot that include the true function $f(x)$, a scatter plot of your training data, and the curve representing your fitted model. "
   ]
  },
  {
   "cell_type": "code",
   "execution_count": 156,
   "metadata": {
    "deletable": false,
    "nbgrader": {
     "cell_type": "code",
     "checksum": "b1a79919f2aa7437adc2a320f8c677f0",
     "grade": true,
     "grade_id": "3ba2",
     "locked": false,
     "points": 3,
     "schema_version": 3,
     "solution": true
    }
   },
   "outputs": [
    {
     "name": "stdout",
     "output_type": "stream",
     "text": [
      "(200,) (200,)\n"
     ]
    },
    {
     "data": {
      "text/plain": [
       "<matplotlib.legend.Legend at 0x11a232b70>"
      ]
     },
     "execution_count": 156,
     "metadata": {},
     "output_type": "execute_result"
    },
    {
     "data": {
      "image/png": "[encoded data removed]",
      "text/plain": [
       "<Figure size 504x504 with 1 Axes>"
      ]
     },
     "metadata": {
      "needs_background": "light"
     },
     "output_type": "display_data"
    }
   ],
   "source": [
    "model_plot = poly_predict(x, y, xplot, 2)\n",
    "fig, ax = plt.subplots(nrows=1, ncols=1, figsize=(7,7))\n",
    "\n",
    "# YOUR CODE HERE\n",
    "print(xplot.shape,model_plot.shape)\n",
    "ax.scatter(xplot,model_plot,s=2,label=\"Fitted model\")\n",
    "ax.scatter(xplot,get_f(xplot),s=2,label=\"f(x)\")\n",
    "ax.scatter(x,y,label=\"Training data\")\n",
    "ax.set_xlabel(\"x\", fontsize=16)\n",
    "ax.set_ylabel(\"y\", fontsize=16)\n",
    "ax.legend(loc=\"upper right\")\n",
    "#raise NotImplementedError()"
   ]
  },
  {
   "cell_type": "markdown",
   "metadata": {
    "deletable": false,
    "editable": false,
    "nbgrader": {
     "cell_type": "markdown",
     "checksum": "2be38bffa9ff136c748268719538b59e",
     "grade": false,
     "grade_id": "3c1",
     "locked": true,
     "schema_version": 3,
     "solution": false
    }
   },
   "source": [
    "**Part C [12 points]**: Our goal now will be to make a plot of the decomposition of the expected validation MSE into it's constituent parts.  Recall that we showed in lecture that the expected test MSE can be written as \n",
    "\n",
    "$$\n",
    "\\textrm{E}\\left[\\left(y_0 - \\hat{f}(x_0) \\right)^2\\right] = \\left[~f(x_0) - \\textrm{E}[~\\hat{f}(x_0)~] \\right]^2\n",
    "+ \\textrm{E}\\left[ ~ \\textrm{E}[~\\hat{f}(x_0)]-\\hat{f}(x_0)~\\right]^2 + \\textrm{Var}(\\epsilon)\n",
    "= \\left[\\textrm{Bias}(~\\hat{f}(x_0)\\right]^2 + \\textrm{Var}(~\\hat{f}(x_0)~) + \\textrm{Var}(\\epsilon)\n",
    "$$\n",
    "\n",
    "where $x_0$ represents unseen validation data. We're going to run simulations to estimate $\\left[\\textrm{Bias}(~\\hat{f}(x_0)\\right]^2$ and $\\textrm{Var}(~\\hat{f}(x_0)~)$ for different polynomial models and then plot them against estimates of the true validation MSE. The function `bias_variance_study` below will help you do this.  You just need to fill in a few key parts.  At the end of the day, you should have a plot for each combination of the simulation parameters.  "
   ]
  },
  {
   "cell_type": "markdown",
   "metadata": {
    "deletable": false,
    "editable": false,
    "nbgrader": {
     "cell_type": "markdown",
     "checksum": "4e5f4d37ca0d563834dcb9961c13f39c",
     "grade": false,
     "grade_id": "3c2",
     "locked": true,
     "schema_version": 3,
     "solution": false
    }
   },
   "source": [
    "The $\\textrm{Bias}^2$ term is given by \n",
    "\n",
    "$$\n",
    "\\left[\\textrm{Bias}(~\\hat{f}(x_0)\\right]^2 = \\left[~f(x_0) - \\textrm{E}[~\\hat{f}(x_0)~] \\right]^2\n",
    "$$\n",
    "\n",
    "The first term inside the square,$~f(x_0)$, is simply the true function $f$ evaluated on the validation data.  The second term inside the square, $\\textrm{E}[~\\hat{f}(x_0)~]$, is the expected value of all estimated models evaluated on the validation data.  We can estimate this by sampling many many training sets, fitting models, evaluating them on many validation sets, and then taking the average. "
   ]
  },
  {
   "cell_type": "markdown",
   "metadata": {
    "deletable": false,
    "editable": false,
    "nbgrader": {
     "cell_type": "markdown",
     "checksum": "caed6c6270cd427557b33de0b8624ccf",
     "grade": false,
     "grade_id": "cell-7a6e91c11ac651f4",
     "locked": true,
     "schema_version": 3,
     "solution": false
    }
   },
   "source": [
    "The next step is to estimate the $\\textrm{Variance}$.  Let's unpack it \n",
    "\n",
    "$$\n",
    "\\textrm{E}\\left[ ~ \\hat{f}(x_0) - \\textrm{E}[~\\hat{f}(x_0)]~\\right]^2\n",
    "$$\n",
    "\n",
    "Note that $\\textrm{E}[~\\hat{f}(x_0)]$ is the `mean_model` we got from the `squared_bias` function. The other term, $\\hat{f}(x_0)$, is a model estimated on a random training set, and then evaluated on the validation set.  Since we're wrapping this whole thing in an expectation, we're going to sample many many training sets, estimate $\\hat{f}(x_0)$, and then compute the mean squared deviation between these and the `mean_model`. "
   ]
  },
  {
   "cell_type": "markdown",
   "metadata": {
    "deletable": false,
    "editable": false,
    "nbgrader": {
     "cell_type": "markdown",
     "checksum": "a857d7c1fb1b9a9fa494a2b4507f2a29",
     "grade": false,
     "grade_id": "cell-baf6ced64ca6f96d",
     "locked": true,
     "schema_version": 3,
     "solution": false,
     "task": false
    }
   },
   "source": [
    "You will add code to the function below to accomplish this. The plotting part is completed for you. Follow the instructions in the comments below to write two loops.\n",
    "\n",
    "In the first loop, you need to train models of different degrees on the training set and record their validation predictions. You also need to calculate the validation MSE of each model.\n",
    "\n",
    "In the second loop, you need to calculate for each degree the squared bias, the variance, and the mean validation MSE across all the simulations."
   ]
  },
  {
   "cell_type": "code",
   "execution_count": 157,
   "metadata": {
    "deletable": false,
    "nbgrader": {
     "cell_type": "code",
     "checksum": "75beb6ee2dfa5a722f6a0ebe57902fc0",
     "grade": true,
     "grade_id": "cell-faed4049ca36c7ae",
     "locked": false,
     "points": 12,
     "schema_version": 3,
     "solution": true
    }
   },
   "outputs": [
    {
     "name": "stdout",
     "output_type": "stream",
     "text": [
      "Mean difference between MSE and Bias^2 + variance with sigma=0.4:  0.13958443029021675\n"
     ]
    },
    {
     "data": {
      "image/png": "[encoded data removed]",
      "text/plain": [
       "<Figure size 1152x432 with 2 Axes>"
      ]
     },
     "metadata": {
      "needs_background": "light"
     },
     "output_type": "display_data"
    }
   ],
   "source": [
    "def bias_variance_study(num_data, num_sims, train_frac=0.8, sigma=0.4, max_deg=10, random_state=1234):\n",
    "    '''\n",
    "    Function to run simulations and estimate the squared-bias, variance, and \n",
    "    validation error of polynomial regression models. \n",
    "    \n",
    "    :@param num_data: number of points in simulated data set \n",
    "    :@param num_sims: number of simulations to run \n",
    "    :@param train_frac: fraction of total data in training set\n",
    "    :@param sigma: standard deviation of noise in data \n",
    "    :@param max_deg: largest degree polynomial to analyze\n",
    "    :@param random_state: seed for random state, for reproducibility\n",
    "    '''\n",
    "    # Set random seed \n",
    "    np.random.seed(random_state)\n",
    "    \n",
    "    # array of polynomial degrees\n",
    "    degrees = range(1, max_deg + 1)\n",
    "    \n",
    "    # train/valid split sizes \n",
    "    num_train = int(np.ceil(train_frac * num_data))\n",
    "    num_valid = num_data - num_train\n",
    "    \n",
    "    # Generate grid of features and shuffle them \n",
    "    x_grid = np.linspace(-1, 1, num_data)\n",
    "    np.random.shuffle(x_grid)\n",
    "    \n",
    "    # Spit into training and validation sets \n",
    "    x_train = x_grid[:num_train]\n",
    "    x_valid = x_grid[num_train:]\n",
    "    \n",
    "    # Dictionaries for predictions and MSE measurements\n",
    "    # Keys are polynomial degree. Each prediction is column \n",
    "    # of nValid x num_sims array. Each mse is entry in vector\n",
    "    # of length num_sims \n",
    "    y_hat_valid = {deg: np.zeros((num_valid, num_sims)) for deg in degrees}\n",
    "    mses_valid = {deg: np.zeros(num_sims) for deg in degrees}\n",
    "    # Loop over num_sims simulated data sets\n",
    "    for sim in range(num_sims):\n",
    "        \n",
    "        # Generate training and validation responses \n",
    "        y_train = get_y(x_train, sigma=sigma)\n",
    "        y_valid = get_y(x_valid, sigma=sigma)\n",
    "        \n",
    "        # Loop over polynomial degree. Use function from part B \n",
    "        # to fit to training set and predict on validation set.\n",
    "        # Store predictions those predictions in yHatValid[deg]\n",
    "        \n",
    "        # YOUR CODE HERE\n",
    "        for deg in degrees:\n",
    "            y=poly_predict(x_train, y_train, x_valid, deg)\n",
    "            j=0\n",
    "            for i in range(len(y_hat_valid[deg])):\n",
    "                y_hat_valid[deg][i][sim]=y[j]\n",
    "                j=j+1\n",
    "            mses_valid[deg][sim] = np.mean(np.square(y - y_valid))  # E[(y0-f(x0))^2]\n",
    "        #raise NotImplementedError()\n",
    "        \n",
    "    # Loop over each polynomial degree and compute squared-bias, variance, \n",
    "    # and mean MSE on validation set.  \n",
    "    bias_squared, variance, mse_valid = np.zeros(max_deg), np.zeros(max_deg), np.zeros(max_deg) \n",
    "    \n",
    "    # YOUR CODE HERE\n",
    "    for deg in degrees:\n",
    "        mse_valid[deg-1]=np.mean(mses_valid[deg])\n",
    "        y_hat=[]\n",
    "        for x in range(len(y_hat_valid[deg])):\n",
    "            y_hat.append(np.mean(y_hat_valid[deg][x]))\n",
    "        bias_squared[deg-1]=np.mean(np.square(get_f(x_valid)-y_hat))\n",
    "        model=[]\n",
    "        for i in range(len(y_hat_valid[deg])):\n",
    "            for j in range(len(y_hat_valid[deg][i])):\n",
    "                model.append(np.square(y_hat_valid[deg][i][j]-y_hat[i]))\n",
    "        variance[deg-1]=np.mean(model)\n",
    "    #raise NotImplementedError()\n",
    "        \n",
    "    # Plot squared bias, variance, and validation MSE \n",
    "    fig, (ax1, ax2) = plt.subplots(nrows=1, ncols=2, figsize=(16,6))\n",
    "    ax1.plot(degrees, bias_squared, color=\"steelblue\", lw=3, label=\"Bias**2\")\n",
    "    ax1.plot(degrees, variance, color=\"#a76c6e\", lw=3, label=\"Variance\")\n",
    "    ax1.plot(degrees, mse_valid, color=\"black\", lw=3, label=\"Valid MSE\")\n",
    "    ax1.grid(alpha=0.25)\n",
    "    ax1.set_xlabel(\"Model Complexity (Poly Degree)\", fontsize=16)\n",
    "    ax1.set_ylabel(\"Error\", fontsize=16)\n",
    "    ax1.legend(loc=\"upper left\", fontsize=12)\n",
    "    ax2.plot(degrees, bias_squared + variance, color=\"#777791\", lw=3, label=\"Bias**2 + Variance\")\n",
    "    ax2.plot(degrees, mse_valid, color=\"black\", lw=3, label=\"Valid MSE\")\n",
    "    ax2.grid(alpha=0.25)\n",
    "    ax2.set_xlabel(\"Model Complexity (Poly Degree)\", fontsize=16)\n",
    "    ax2.set_ylabel(\"Error\", fontsize=16)\n",
    "    ax2.legend(loc=\"upper left\", fontsize=12)\n",
    "    print(\"Mean difference between MSE and Bias^2 + variance with sigma={}: \".format(sigma), \n",
    "          np.mean(mse_valid-bias_squared-variance))\n",
    "    \n",
    "    # Return arrays of squared-Bias, variance, and MSE \n",
    "    return bias_squared, variance, mse_valid\n",
    "    \n",
    "\n",
    "bias_squared, variance, mse_valid = bias_variance_study(30, 500, train_frac=0.80,sigma=0.4, max_deg=12,random_state=1241)"
   ]
  },
  {
   "cell_type": "markdown",
   "metadata": {
    "deletable": false,
    "editable": false,
    "nbgrader": {
     "cell_type": "markdown",
     "checksum": "301ab0196dec8a2b40c96ef5868735b1",
     "grade": false,
     "grade_id": "3d-q",
     "locked": true,
     "schema_version": 3,
     "solution": false
    }
   },
   "source": [
    "**Part D [6 points]**: When everything is working, increase the size of the simulated data sets and the number of simulation runs and compare the difference between the validation MSE and the sum of the squared-Bias the Variance for each polynomial degree.  Try this for several values of the standard deviation of the model noise.  What do you notice?  How can you explain this result using the notions of Bias-Variance and Reducible and Irreducible error discussed in class?   "
   ]
  },
  {
   "cell_type": "markdown",
   "metadata": {
    "deletable": false,
    "nbgrader": {
     "cell_type": "markdown",
     "checksum": "9ac326d79eb0f869d2dc9b595de1991d",
     "grade": true,
     "grade_id": "3d-a",
     "locked": false,
     "points": 6,
     "schema_version": 3,
     "solution": true
    }
   },
   "source": [
    "It can be noticed that as the size of the simulated data sets and the number of simulation runs increases, the bias decreases and the variance increases. \n",
    "High bias means even with all training data, the error is still high. Model is not flexible.\n",
    "High variance means that even a small variation in the training data causes a great change in the learned model. Model is too sensitive. "
   ]
  },
  {
   "cell_type": "code",
   "execution_count": 125,
   "metadata": {
    "deletable": false,
    "nbgrader": {
     "cell_type": "code",
     "checksum": "edea8d08e43300c244757ab46cfa010a",
     "grade": false,
     "grade_id": "cell-2a02d6fd709a8e95",
     "locked": false,
     "schema_version": 3,
     "solution": true,
     "task": false
    }
   },
   "outputs": [
    {
     "name": "stdout",
     "output_type": "stream",
     "text": [
      "Mean difference between MSE and Bias^2 + variance with sigma=0.5:  0.24852219014573687\n",
      "Mean difference between MSE and Bias^2 + variance with sigma=0.625:  0.3882447780908116\n",
      "Mean difference between MSE and Bias^2 + variance with sigma=0.75:  0.5590041821993427\n",
      "Mean difference between MSE and Bias^2 + variance with sigma=0.875:  0.7608004024713297\n",
      "Mean difference between MSE and Bias^2 + variance with sigma=1.0:  0.9936334389067731\n"
     ]
    },
    {
     "data": {
      "image/png": "[encoded data removed]",
      "text/plain": [
       "<Figure size 1152x432 with 2 Axes>"
      ]
     },
     "metadata": {
      "needs_background": "light"
     },
     "output_type": "display_data"
    },
    {
     "data": {
      "image/png": "[encoded data removed]",
      "text/plain": [
       "<Figure size 1152x432 with 2 Axes>"
      ]
     },
     "metadata": {
      "needs_background": "light"
     },
     "output_type": "display_data"
    },
    {
     "data": {
      "image/png": "[encoded data removed]",
      "text/plain": [
       "<Figure size 1152x432 with 2 Axes>"
      ]
     },
     "metadata": {
      "needs_background": "light"
     },
     "output_type": "display_data"
    },
    {
     "data": {
      "image/png": "[encoded data removed]",
      "text/plain": [
       "<Figure size 1152x432 with 2 Axes>"
      ]
     },
     "metadata": {
      "needs_background": "light"
     },
     "output_type": "display_data"
    },
    {
     "data": {
      "image/png": "[encoded data removed]",
      "text/plain": [
       "<Figure size 1152x432 with 2 Axes>"
      ]
     },
     "metadata": {
      "needs_background": "light"
     },
     "output_type": "display_data"
    }
   ],
   "source": [
    "# YOUR CODE HERE\n",
    "num_data=100\n",
    "num_sims=1000\n",
    "sigma=np.linspace(0.5,1,5)\n",
    "for noise in sigma:\n",
    "    bias_squared, variance, mse_valid = bias_variance_study(num_data,num_sims,train_frac=0.80,sigma=noise, max_deg=12,random_state=1241)\n",
    "#raise NotImplementedError()"
   ]
  },
  {
   "cell_type": "markdown",
   "metadata": {
    "deletable": false,
    "editable": false,
    "nbgrader": {
     "cell_type": "markdown",
     "checksum": "16f99ad6d43c03e54c500091970abf6c",
     "grade": false,
     "grade_id": "syllabusquiz",
     "locked": true,
     "schema_version": 3,
     "solution": false
    }
   },
   "source": [
    "### [5 points] Problem 4: Syllabus quiz\n",
    "***\n",
    "\n",
    "Please read the [syllabus](https://github.com/BoulderDS/CSCI5622-machine-learning/blob/master/info/syllabus.md) carefullly and finish the [Syllabus quiz](https://forms.gle/sMs3dH61ZKVXKPyW8). You do not need to answer anything here. The Markdown cell is only for grading convenience."
   ]
  },
  {
   "cell_type": "markdown",
   "metadata": {
    "deletable": false,
    "nbgrader": {
     "cell_type": "markdown",
     "checksum": "3d6cfe1a807ce7839a8d89c76f278223",
     "grade": true,
     "grade_id": "cell-bda8fadfb14fc199",
     "locked": false,
     "points": 5,
     "schema_version": 3,
     "solution": true
    }
   },
   "source": [
    "YOUR ANSWER HERE"
   ]
  },
  {
   "cell_type": "markdown",
   "metadata": {
    "deletable": false,
    "editable": false,
    "nbgrader": {
     "cell_type": "markdown",
     "checksum": "c43ee1a1310ae2ae73a4111b70c0a1ec",
     "grade": false,
     "grade_id": "coursesurvey",
     "locked": true,
     "schema_version": 3,
     "solution": false
    }
   },
   "source": [
    "### Optional survey.\n",
    "***\n",
    "\n",
    "We are always interested in your feedback. At the end of each homework, there is a simple anonymous feedback [survey](https://forms.gle/jaqWhB5q1TQdHZvj7) to solicit your feedback for how to improve the course."
   ]
  },
  {
   "cell_type": "code",
   "execution_count": null,
   "metadata": {},
   "outputs": [],
   "source": []
  }
 ],
 "metadata": {
  "kernelspec": {
   "display_name": "Python 3",
   "language": "python",
   "name": "python3"
  },
  "language_info": {
   "codemirror_mode": {
    "name": "ipython",
    "version": 3
   },
   "file_extension": ".py",
   "mimetype": "text/x-python",
   "name": "python",
   "nbconvert_exporter": "python",
   "pygments_lexer": "ipython3",
   "version": "3.7.3"
  }
 },
 "nbformat": 4,
 "nbformat_minor": 2
}
